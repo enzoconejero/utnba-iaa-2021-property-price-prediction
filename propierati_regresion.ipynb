{
  "nbformat": 4,
  "nbformat_minor": 0,
  "metadata": {
    "colab": {
      "name": "propierati_regresion.ipynb",
      "provenance": [],
      "collapsed_sections": [
        "PhVFGKzLL_1c"
      ],
      "include_colab_link": true
    },
    "kernelspec": {
      "name": "python3",
      "display_name": "Python 3"
    },
    "language_info": {
      "name": "python"
    },
    "widgets": {
      "application/vnd.jupyter.widget-state+json": {
        "96605cd5794d4b5699d8ab2507faabc1": {
          "model_module": "@jupyter-widgets/controls",
          "model_name": "HBoxModel",
          "state": {
            "_view_name": "HBoxView",
            "_dom_classes": [],
            "_model_name": "HBoxModel",
            "_view_module": "@jupyter-widgets/controls",
            "_model_module_version": "1.5.0",
            "_view_count": null,
            "_view_module_version": "1.5.0",
            "box_style": "",
            "layout": "IPY_MODEL_8b6abe8835e9427593c036d4ac05f91d",
            "_model_module": "@jupyter-widgets/controls",
            "children": [
              "IPY_MODEL_dc77653b55364a74aedeb89f6330fabe",
              "IPY_MODEL_c360cf78d45f4204b8a9d757c932c18c"
            ]
          }
        },
        "8b6abe8835e9427593c036d4ac05f91d": {
          "model_module": "@jupyter-widgets/base",
          "model_name": "LayoutModel",
          "state": {
            "_view_name": "LayoutView",
            "grid_template_rows": null,
            "right": null,
            "justify_content": null,
            "_view_module": "@jupyter-widgets/base",
            "overflow": null,
            "_model_module_version": "1.2.0",
            "_view_count": null,
            "flex_flow": null,
            "width": null,
            "min_width": null,
            "border": null,
            "align_items": null,
            "bottom": null,
            "_model_module": "@jupyter-widgets/base",
            "top": null,
            "grid_column": null,
            "overflow_y": null,
            "overflow_x": null,
            "grid_auto_flow": null,
            "grid_area": null,
            "grid_template_columns": null,
            "flex": null,
            "_model_name": "LayoutModel",
            "justify_items": null,
            "grid_row": null,
            "max_height": null,
            "align_content": null,
            "visibility": null,
            "align_self": null,
            "height": null,
            "min_height": null,
            "padding": null,
            "grid_auto_rows": null,
            "grid_gap": null,
            "max_width": null,
            "order": null,
            "_view_module_version": "1.2.0",
            "grid_template_areas": null,
            "object_position": null,
            "object_fit": null,
            "grid_auto_columns": null,
            "margin": null,
            "display": null,
            "left": null
          }
        },
        "dc77653b55364a74aedeb89f6330fabe": {
          "model_module": "@jupyter-widgets/controls",
          "model_name": "DropdownModel",
          "state": {
            "_options_labels": [
              "rooms",
              "bedrooms",
              "bathrooms",
              "surface_total",
              "surface_covered",
              "price",
              "property_type",
              "class"
            ],
            "_view_name": "DropdownView",
            "style": "IPY_MODEL_b38e7b20d87645b5b96a8dc96ae42230",
            "_dom_classes": [],
            "description": "Columna X:",
            "_model_name": "DropdownModel",
            "index": 0,
            "_view_module": "@jupyter-widgets/controls",
            "_model_module_version": "1.5.0",
            "_view_count": null,
            "disabled": false,
            "_view_module_version": "1.5.0",
            "description_tooltip": null,
            "_model_module": "@jupyter-widgets/controls",
            "layout": "IPY_MODEL_93dd83e4f39a4324b95fc17e1075c0fb"
          }
        },
        "c360cf78d45f4204b8a9d757c932c18c": {
          "model_module": "@jupyter-widgets/controls",
          "model_name": "DropdownModel",
          "state": {
            "_options_labels": [
              "neighborhood",
              "rooms",
              "bedrooms",
              "bathrooms",
              "surface_total",
              "surface_covered",
              "price",
              "property_type",
              "class"
            ],
            "_view_name": "DropdownView",
            "style": "IPY_MODEL_ead1869617d1437ebe446d4db4f156bc",
            "_dom_classes": [],
            "description": "Columna Y:",
            "_model_name": "DropdownModel",
            "index": 1,
            "_view_module": "@jupyter-widgets/controls",
            "_model_module_version": "1.5.0",
            "_view_count": null,
            "disabled": false,
            "_view_module_version": "1.5.0",
            "description_tooltip": null,
            "_model_module": "@jupyter-widgets/controls",
            "layout": "IPY_MODEL_27a0b1242ea848108bc18a3a9b56b56c"
          }
        },
        "b38e7b20d87645b5b96a8dc96ae42230": {
          "model_module": "@jupyter-widgets/controls",
          "model_name": "DescriptionStyleModel",
          "state": {
            "_view_name": "StyleView",
            "_model_name": "DescriptionStyleModel",
            "description_width": "",
            "_view_module": "@jupyter-widgets/base",
            "_model_module_version": "1.5.0",
            "_view_count": null,
            "_view_module_version": "1.2.0",
            "_model_module": "@jupyter-widgets/controls"
          }
        },
        "93dd83e4f39a4324b95fc17e1075c0fb": {
          "model_module": "@jupyter-widgets/base",
          "model_name": "LayoutModel",
          "state": {
            "_view_name": "LayoutView",
            "grid_template_rows": null,
            "right": null,
            "justify_content": null,
            "_view_module": "@jupyter-widgets/base",
            "overflow": null,
            "_model_module_version": "1.2.0",
            "_view_count": null,
            "flex_flow": null,
            "width": null,
            "min_width": null,
            "border": null,
            "align_items": null,
            "bottom": null,
            "_model_module": "@jupyter-widgets/base",
            "top": null,
            "grid_column": null,
            "overflow_y": null,
            "overflow_x": null,
            "grid_auto_flow": null,
            "grid_area": null,
            "grid_template_columns": null,
            "flex": null,
            "_model_name": "LayoutModel",
            "justify_items": null,
            "grid_row": null,
            "max_height": null,
            "align_content": null,
            "visibility": null,
            "align_self": null,
            "height": null,
            "min_height": null,
            "padding": null,
            "grid_auto_rows": null,
            "grid_gap": null,
            "max_width": null,
            "order": null,
            "_view_module_version": "1.2.0",
            "grid_template_areas": null,
            "object_position": null,
            "object_fit": null,
            "grid_auto_columns": null,
            "margin": null,
            "display": null,
            "left": null
          }
        },
        "ead1869617d1437ebe446d4db4f156bc": {
          "model_module": "@jupyter-widgets/controls",
          "model_name": "DescriptionStyleModel",
          "state": {
            "_view_name": "StyleView",
            "_model_name": "DescriptionStyleModel",
            "description_width": "",
            "_view_module": "@jupyter-widgets/base",
            "_model_module_version": "1.5.0",
            "_view_count": null,
            "_view_module_version": "1.2.0",
            "_model_module": "@jupyter-widgets/controls"
          }
        },
        "27a0b1242ea848108bc18a3a9b56b56c": {
          "model_module": "@jupyter-widgets/base",
          "model_name": "LayoutModel",
          "state": {
            "_view_name": "LayoutView",
            "grid_template_rows": null,
            "right": null,
            "justify_content": null,
            "_view_module": "@jupyter-widgets/base",
            "overflow": null,
            "_model_module_version": "1.2.0",
            "_view_count": null,
            "flex_flow": null,
            "width": null,
            "min_width": null,
            "border": null,
            "align_items": null,
            "bottom": null,
            "_model_module": "@jupyter-widgets/base",
            "top": null,
            "grid_column": null,
            "overflow_y": null,
            "overflow_x": null,
            "grid_auto_flow": null,
            "grid_area": null,
            "grid_template_columns": null,
            "flex": null,
            "_model_name": "LayoutModel",
            "justify_items": null,
            "grid_row": null,
            "max_height": null,
            "align_content": null,
            "visibility": null,
            "align_self": null,
            "height": null,
            "min_height": null,
            "padding": null,
            "grid_auto_rows": null,
            "grid_gap": null,
            "max_width": null,
            "order": null,
            "_view_module_version": "1.2.0",
            "grid_template_areas": null,
            "object_position": null,
            "object_fit": null,
            "grid_auto_columns": null,
            "margin": null,
            "display": null,
            "left": null
          }
        },
        "31a72a249adc4f54987cbb0b40637c45": {
          "model_module": "@jupyter-widgets/output",
          "model_name": "OutputModel",
          "state": {
            "_view_name": "OutputView",
            "msg_id": "",
            "_dom_classes": [],
            "_model_name": "OutputModel",
            "outputs": [
              {
                "output_type": "display_data",
                "metadata": {
                  "tags": [],
                  "needs_background": "light"
                },
                "image/png": "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\n",
                "text/plain": "<Figure size 216x216 with 1 Axes>"
              }
            ],
            "_view_module": "@jupyter-widgets/output",
            "_model_module_version": "1.0.0",
            "_view_count": null,
            "_view_module_version": "1.0.0",
            "layout": "IPY_MODEL_7927a71cabf249c3875ae4e1f8a34f87",
            "_model_module": "@jupyter-widgets/output"
          }
        },
        "7927a71cabf249c3875ae4e1f8a34f87": {
          "model_module": "@jupyter-widgets/base",
          "model_name": "LayoutModel",
          "state": {
            "_view_name": "LayoutView",
            "grid_template_rows": null,
            "right": null,
            "justify_content": null,
            "_view_module": "@jupyter-widgets/base",
            "overflow": null,
            "_model_module_version": "1.2.0",
            "_view_count": null,
            "flex_flow": null,
            "width": null,
            "min_width": null,
            "border": null,
            "align_items": null,
            "bottom": null,
            "_model_module": "@jupyter-widgets/base",
            "top": null,
            "grid_column": null,
            "overflow_y": null,
            "overflow_x": null,
            "grid_auto_flow": null,
            "grid_area": null,
            "grid_template_columns": null,
            "flex": null,
            "_model_name": "LayoutModel",
            "justify_items": null,
            "grid_row": null,
            "max_height": null,
            "align_content": null,
            "visibility": null,
            "align_self": null,
            "height": null,
            "min_height": null,
            "padding": null,
            "grid_auto_rows": null,
            "grid_gap": null,
            "max_width": null,
            "order": null,
            "_view_module_version": "1.2.0",
            "grid_template_areas": null,
            "object_position": null,
            "object_fit": null,
            "grid_auto_columns": null,
            "margin": null,
            "display": null,
            "left": null
          }
        }
      }
    },
    "accelerator": "GPU"
  },
  "cells": [
    {
      "cell_type": "markdown",
      "metadata": {
        "id": "view-in-github",
        "colab_type": "text"
      },
      "source": [
        "<a href=\"https://colab.research.google.com/github/enzoconejero/utnba-iaa-2021-property-price-prediction/blob/master/propierati_regresion.ipynb\" target=\"_parent\"><img src=\"https://colab.research.google.com/assets/colab-badge.svg\" alt=\"Open In Colab\"/></a>"
      ]
    },
    {
      "cell_type": "markdown",
      "metadata": {
        "id": "_A6vFVCYlzyn"
      },
      "source": [
        "#Predicción de precios de Propierati con regresión\n",
        "\n"
      ]
    },
    {
      "cell_type": "markdown",
      "metadata": {
        "id": "T3dZXEw5phVl"
      },
      "source": [
        "# Importar librerías y funciones auxiliares"
      ]
    },
    {
      "cell_type": "code",
      "metadata": {
        "id": "28lpkFvQpml_"
      },
      "source": [
        "import os\n",
        "\n",
        "import numpy as np\n",
        "import pandas as pd\n",
        "import matplotlib.pyplot as plt\n",
        "import seaborn as sns\n",
        "import tensorflow as tf\n",
        "import keras\n",
        "import ipywidgets as widgets\n",
        "\n",
        "from sklearn import preprocessing\n",
        "from sklearn.model_selection import train_test_split\n",
        "from sklearn.linear_model import LinearRegression\n",
        "from sklearn.preprocessing import StandardScaler, MinMaxScaler, MaxAbsScaler, RobustScaler, LabelEncoder\n",
        "from sklearn.svm import SVR\n",
        "from sklearn.svm import LinearSVR\n",
        "from sklearn.neighbors import KNeighborsRegressor\n",
        "from sklearn.metrics import mean_squared_error, r2_score\n",
        "from sklearn.metrics import mean_absolute_error\n",
        "from sklearn.decomposition import PCA\n",
        "from sklearn.cluster import KMeans\n",
        "\n",
        "from keras.models import Sequential\n",
        "from keras.layers import Dense, LeakyReLU, BatchNormalization, Dropout\n",
        "from keras.callbacks import ModelCheckpoint\n",
        "from matplotlib.pyplot import figure\n",
        "\n",
        "from tensorflow.keras.utils import plot_model"
      ],
      "execution_count": 1,
      "outputs": []
    },
    {
      "cell_type": "code",
      "metadata": {
        "id": "ZKP-KgF_2oYQ"
      },
      "source": [
        "def filter_quantile(df, columna, quantil, tipo='max'):\n",
        "    if tipo not in ('max', 'min'):\n",
        "        raise ValueError(f\"Parámetro 'extreme' debe ser 'max' o 'min'. Se recibió {tipo}\")\n",
        "    extremo = df[columna].quantile(quantil)\n",
        "    if tipo == 'max':\n",
        "        df = df[df[column] <= extremo]\n",
        "    else:\n",
        "        df = df[df[column] >= extremo]\n",
        "    return df\n",
        "\n",
        "\n",
        "def generar_estadisticas_detalladas(orDF, titulo=\"\"):\n",
        "  # título\n",
        "  print(\"\\n\", titulo, \": \") \n",
        "  # obtiene las estadísticas generales\n",
        "  estDF = orDF.describe().transpose()\n",
        "  #  genera y formatea las estadísticas\n",
        "  if \"min\" in estDF and \"max\" in estDF:\n",
        "    rangoValores = \"[ \" + estDF[\"min\"].apply('{:.2f}'.format) + \" ; \" + estDF[\"max\"].apply('{:.2f}'.format) + \" ]\"    \n",
        "  else:\n",
        "    rangoValores = estDF[\"unique\"].fillna(0.0).apply('{:.0f}'.format)\n",
        "  rangoValores.name = \"Rango Valores\"\n",
        "  # para campos no numéricos muestra las cantidades por valor\n",
        "  for col in orDF.columns:\n",
        "    if orDF[col].dtypes in (\"object\", \"bool\"):\n",
        "      auxStr = str( orDF[col].value_counts() ).replace(\"\\n\", \" ; \")\n",
        "      if (auxStr.index(\"Name\")-3) > 0:\n",
        "        # saca lo del final porque no sirve\n",
        "        auxStr = auxStr[:auxStr.index(\"Name\")-3]\n",
        "      rangoValores[col] = \"{ \" + auxStr + \" }\"\n",
        "  if \"mean\" in estDF and \"std\" in estDF:      \n",
        "    promValores = estDF[\"mean\"].fillna(0.0).apply('{:.3f}'.format) + \" ± \" + estDF[\"std\"].fillna(0.0).apply('{:.3f}'.format)\n",
        "  else:\n",
        "    promValores = estDF[\"count\"].apply('{:.0f}'.format)\n",
        "  promValores.name = \"Promedio ± Desvío\"\n",
        "  # obtiene valores \"ceros\" y nulos\n",
        "  zero_val = (orDF == 0.00).astype(int).sum(axis=0)\n",
        "  zero_val.name = \"¿Valores Ceros?\"\n",
        "  mis_val = orDF.isnull().sum()\n",
        "  mis_val.name = \"¿Valores Nulos?\"\n",
        "  # prepara la nueva tabla para mostrar\n",
        "  nTable = pd.concat([orDF.dtypes, rangoValores, promValores, zero_val, mis_val], axis=1)\n",
        "  nTable = nTable.rename( columns = {0: 'Tipo Valor',  1: 'Rango Valores', 2: 'Promedio ± Desvío', 3: '¿Valores Ceros?', 4: '¿Valores Nulos?' } )\n",
        "  # muestra la nueva tabla\n",
        "  pd.set_option('max_colwidth', None)\n",
        "  display(nTable.fillna(\"-\"))\n",
        "  print(\"Tiene \" + str(orDF.shape[1]) + \" atributos y \" + str(orDF.shape[0]) + \" ejemplos.\")\n",
        "  print(\"\\n\")\n",
        "  return \n",
        "\n",
        "def plot_box_graph(ndf, titulo):  # genGraph_BoxPlot\n",
        "  fig = plt.figure(figsize=(15,8)) \n",
        "  legValues = []\n",
        "  colValues = []\n",
        "  for col in ndf.columns:    \n",
        "    if ndf[col].dtypes != \"object\":\n",
        "      legValues.append( col )\n",
        "      colValues.append( ndf[col].fillna(0.001) )\n",
        "  if len(colValues)>0:\n",
        "    ax = fig.add_axes( [0, 0, 0.8, 0.8] )\n",
        "    ax.boxplot( colValues )\n",
        "    ax.set_xticklabels( legValues )\n",
        "  plt.grid(color='lightgrey', which='major', axis='y', linestyle='solid', linewidth=0.3)\n",
        "  plt.title(titulo)\n",
        "  plt.show()\n",
        "\n",
        "def is_numeric(col):\n",
        "    return col.dtypes != \"object\"\n",
        "\n",
        "def only_numerics(df):\n",
        "    dfn = df.copy()\n",
        "    for col in dfn.columns:\n",
        "        if not is_numeric(dfn[col]):\n",
        "            dfn.pop(col)\n",
        "    return dfn\n",
        "\n",
        "def plot_pca(df, dims=2, classes=np.array([])):\n",
        "    \"\"\"PCA: Principal Componenet Analysis\n",
        "    Reduce dimensiones de un dataframe\n",
        "    Reduciendo a 2 dimensiones se puede graficar\n",
        "    \"\"\"\n",
        "    df_pca = only_numerics(df)\n",
        "    pca = PCA(n_components=dims).fit(df_pca)\n",
        "\n",
        "    df_pca = pd.DataFrame(pca.transform(df_pca), columns=('x', 'y'))\n",
        "    \n",
        "    if len(classes) > 0:\n",
        "        df_pca['class'] = classes\n",
        "    else:\n",
        "        df_pca['class'] = np.array([0]*len(df_pca))\n",
        "\n",
        "    sns.lmplot(x='x', y='y',\n",
        "            data = df_pca,\n",
        "            fit_reg = False,\n",
        "            hue='class'\n",
        "    )"
      ],
      "execution_count": 2,
      "outputs": []
    },
    {
      "cell_type": "markdown",
      "metadata": {
        "id": "qLJZbJV1pvlb"
      },
      "source": [
        "# Cargar dataset"
      ]
    },
    {
      "cell_type": "code",
      "metadata": {
        "id": "JPuiHNiAqrg8",
        "colab": {
          "base_uri": "https://localhost:8080/",
          "height": 53
        },
        "outputId": "5815c955-efcd-497b-819d-baa1b7d8821e"
      },
      "source": [
        "# Montar volumen de drive\n",
        "# from google.colab import drive\n",
        "# drive.mount('/content/gdrive', force_remount=True)\n",
        "\n",
        "try:\n",
        "    raw_data = raw_data\n",
        "    display('No es necesario recargar el dataset inicial')\n",
        "except NameError:\n",
        "    display('Descargando dataset')\n",
        "    raw_data = pd.read_csv(\"https://ia1avanzada.blob.core.windows.net/data-properati/ar_properties.csv\", delimiter=',', parse_dates = True)\n",
        "    display('Dataset descargado')"
      ],
      "execution_count": 3,
      "outputs": [
        {
          "output_type": "display_data",
          "data": {
            "application/vnd.google.colaboratory.intrinsic+json": {
              "type": "string"
            },
            "text/plain": [
              "'Descargando dataset'"
            ]
          },
          "metadata": {
            "tags": []
          }
        },
        {
          "output_type": "display_data",
          "data": {
            "application/vnd.google.colaboratory.intrinsic+json": {
              "type": "string"
            },
            "text/plain": [
              "'Dataset descargado'"
            ]
          },
          "metadata": {
            "tags": []
          }
        }
      ]
    },
    {
      "cell_type": "markdown",
      "metadata": {
        "id": "tj9vMA_TXkHK"
      },
      "source": [
        "# Preparar datos"
      ]
    },
    {
      "cell_type": "code",
      "metadata": {
        "id": "y6XiSXOuvPkE",
        "colab": {
          "base_uri": "https://localhost:8080/"
        },
        "outputId": "76001a95-58d2-4971-8508-98a8fa44860e"
      },
      "source": [
        "#@title Filtrar datos de interés \n",
        "#@markdown - Tipo de propiedad: Departamento, PH, Casa y Oficina\n",
        "#@markdown - Moneda de venta: USD\n",
        "#@markdown - Localidad: Capital Federal\n",
        "#@markdown - Operación: Venta\n",
        "\n",
        "data = raw_data.copy()\n",
        "data = data[data.l2 == 'Capital Federal']\n",
        "data = data.loc[data['property_type'].isin(['Departamento', 'PH', 'Casa', 'Oficina'])]\n",
        "data = data[data.operation_type == 'Venta']\n",
        "data = data[data.currency == 'USD']\n",
        "\n",
        "print(f'Total: {len(data)} propiedades para compra-venta en CABA')"
      ],
      "execution_count": 4,
      "outputs": [
        {
          "output_type": "stream",
          "text": [
            "Total: 123946 propiedades para compra-venta en CABA\n"
          ],
          "name": "stdout"
        }
      ]
    },
    {
      "cell_type": "code",
      "metadata": {
        "colab": {
          "base_uri": "https://localhost:8080/"
        },
        "id": "UVPj75WmggF5",
        "outputId": "de430a0c-61c7-447e-a4e9-5352582e6d75"
      },
      "source": [
        "#@title Normalizar barrio\n",
        "#@markdown Elegir el nivel de detalle más alto de localidad\n",
        "\n",
        "# Nivel más detallista de localidad con datos es l4\n",
        "data['l4'] = data.l4.fillna(0)\n",
        "data['l4'] = np.where(data['l4'] == 0, data['l3'], data['l4'])\n",
        "data.rename(columns={'l4': 'neighborhood'}, inplace=True)\n",
        "\n",
        "print(f'{len(data.neighborhood.unique())} Barrios en {len(data.neighborhood.notnull())} propiedades')"
      ],
      "execution_count": 5,
      "outputs": [
        {
          "output_type": "stream",
          "text": [
            "62 Barrios en 123946 propiedades\n"
          ],
          "name": "stdout"
        }
      ]
    },
    {
      "cell_type": "code",
      "metadata": {
        "colab": {
          "base_uri": "https://localhost:8080/",
          "height": 204
        },
        "id": "gl6NaXKezkic",
        "outputId": "be264545-927d-4f86-e924-db3117c4ed66"
      },
      "source": [
        "#@title Borrar columnas innecesarias\n",
        "#@markdown Aquellos datos que no tienen relevancia en el cálculo del precio\n",
        "data = data.drop(columns=['ad_type', 'start_date', 'end_date', 'created_on', 'lat', 'lon', 'l1', 'l2', 'l3', 'l5', 'l6', 'id', 'title', 'description', 'price_period', 'currency', 'operation_type'], axis=1)\n",
        "data.head()"
      ],
      "execution_count": 6,
      "outputs": [
        {
          "output_type": "execute_result",
          "data": {
            "text/html": [
              "<div>\n",
              "<style scoped>\n",
              "    .dataframe tbody tr th:only-of-type {\n",
              "        vertical-align: middle;\n",
              "    }\n",
              "\n",
              "    .dataframe tbody tr th {\n",
              "        vertical-align: top;\n",
              "    }\n",
              "\n",
              "    .dataframe thead th {\n",
              "        text-align: right;\n",
              "    }\n",
              "</style>\n",
              "<table border=\"1\" class=\"dataframe\">\n",
              "  <thead>\n",
              "    <tr style=\"text-align: right;\">\n",
              "      <th></th>\n",
              "      <th>neighborhood</th>\n",
              "      <th>rooms</th>\n",
              "      <th>bedrooms</th>\n",
              "      <th>bathrooms</th>\n",
              "      <th>surface_total</th>\n",
              "      <th>surface_covered</th>\n",
              "      <th>price</th>\n",
              "      <th>property_type</th>\n",
              "    </tr>\n",
              "  </thead>\n",
              "  <tbody>\n",
              "    <tr>\n",
              "      <th>215</th>\n",
              "      <td>Villa Luro</td>\n",
              "      <td>3.0</td>\n",
              "      <td>NaN</td>\n",
              "      <td>2.0</td>\n",
              "      <td>84.0</td>\n",
              "      <td>74.0</td>\n",
              "      <td>135900.0</td>\n",
              "      <td>Departamento</td>\n",
              "    </tr>\n",
              "    <tr>\n",
              "      <th>216</th>\n",
              "      <td>Boca</td>\n",
              "      <td>1.0</td>\n",
              "      <td>NaN</td>\n",
              "      <td>1.0</td>\n",
              "      <td>28.0</td>\n",
              "      <td>26.0</td>\n",
              "      <td>56000.0</td>\n",
              "      <td>Departamento</td>\n",
              "    </tr>\n",
              "    <tr>\n",
              "      <th>224</th>\n",
              "      <td>Barracas</td>\n",
              "      <td>2.0</td>\n",
              "      <td>NaN</td>\n",
              "      <td>2.0</td>\n",
              "      <td>82.0</td>\n",
              "      <td>71.0</td>\n",
              "      <td>270000.0</td>\n",
              "      <td>Departamento</td>\n",
              "    </tr>\n",
              "    <tr>\n",
              "      <th>225</th>\n",
              "      <td>Belgrano</td>\n",
              "      <td>NaN</td>\n",
              "      <td>NaN</td>\n",
              "      <td>NaN</td>\n",
              "      <td>23.0</td>\n",
              "      <td>23.0</td>\n",
              "      <td>72000.0</td>\n",
              "      <td>Oficina</td>\n",
              "    </tr>\n",
              "    <tr>\n",
              "      <th>226</th>\n",
              "      <td>Paternal</td>\n",
              "      <td>1.0</td>\n",
              "      <td>NaN</td>\n",
              "      <td>1.0</td>\n",
              "      <td>25.0</td>\n",
              "      <td>23.0</td>\n",
              "      <td>50400.0</td>\n",
              "      <td>Departamento</td>\n",
              "    </tr>\n",
              "  </tbody>\n",
              "</table>\n",
              "</div>"
            ],
            "text/plain": [
              "    neighborhood  rooms  bedrooms  ...  surface_covered     price  property_type\n",
              "215   Villa Luro    3.0       NaN  ...             74.0  135900.0   Departamento\n",
              "216         Boca    1.0       NaN  ...             26.0   56000.0   Departamento\n",
              "224     Barracas    2.0       NaN  ...             71.0  270000.0   Departamento\n",
              "225     Belgrano    NaN       NaN  ...             23.0   72000.0        Oficina\n",
              "226     Paternal    1.0       NaN  ...             23.0   50400.0   Departamento\n",
              "\n",
              "[5 rows x 8 columns]"
            ]
          },
          "metadata": {
            "tags": []
          },
          "execution_count": 6
        }
      ]
    },
    {
      "cell_type": "code",
      "metadata": {
        "colab": {
          "base_uri": "https://localhost:8080/",
          "height": 35
        },
        "id": "6qwDXGMg0y6Q",
        "outputId": "73e6cce4-a7ad-4131-dc08-741b6a58c5cd"
      },
      "source": [
        "#@title Borrar registros con datos incompletos\n",
        "\n",
        "# Se borran los datos null\n",
        "cant_inicial = len(data)\n",
        "data = data.dropna()\n",
        "# Se borran los registros con -1 habitaciones\n",
        "data = data[data.bedrooms > 0]\n",
        "display(f'{len(data)} propiedades filtradas de {cant_inicial}')"
      ],
      "execution_count": 7,
      "outputs": [
        {
          "output_type": "display_data",
          "data": {
            "application/vnd.google.colaboratory.intrinsic+json": {
              "type": "string"
            },
            "text/plain": [
              "'67501 propiedades filtradas de 123946'"
            ]
          },
          "metadata": {
            "tags": []
          }
        }
      ]
    },
    {
      "cell_type": "code",
      "metadata": {
        "colab": {
          "base_uri": "https://localhost:8080/",
          "height": 269
        },
        "id": "gAYl0hJd3B68",
        "outputId": "9c271526-a201-4144-e070-db2a9890c3cd"
      },
      "source": [
        "#@title Filtrar registros con valores extremos\n",
        "#@markdown Se buscan los valores extremos de cada columna usando quantiles y se filtran\n",
        "\n",
        "# Las columnas con valores numéricos son las que pueden tener extremos\n",
        "quantilizables = ['rooms', 'bedrooms', 'surface_total', 'surface_covered', 'price']\n",
        "\n",
        "print('Con extremos')\n",
        "data.describe().transpose()\n",
        "\n",
        "for column in quantilizables:\n",
        "    data = filter_quantile(data, column, 0.975)\n",
        "\n",
        "data = filter_quantile(data, 'price', 0.001, 'min')\n",
        "\n",
        "print('Sin extremos')\n",
        "data.describe().transpose()\n"
      ],
      "execution_count": 8,
      "outputs": [
        {
          "output_type": "stream",
          "text": [
            "Con extremos\n",
            "Sin extremos\n"
          ],
          "name": "stdout"
        },
        {
          "output_type": "execute_result",
          "data": {
            "text/html": [
              "<div>\n",
              "<style scoped>\n",
              "    .dataframe tbody tr th:only-of-type {\n",
              "        vertical-align: middle;\n",
              "    }\n",
              "\n",
              "    .dataframe tbody tr th {\n",
              "        vertical-align: top;\n",
              "    }\n",
              "\n",
              "    .dataframe thead th {\n",
              "        text-align: right;\n",
              "    }\n",
              "</style>\n",
              "<table border=\"1\" class=\"dataframe\">\n",
              "  <thead>\n",
              "    <tr style=\"text-align: right;\">\n",
              "      <th></th>\n",
              "      <th>count</th>\n",
              "      <th>mean</th>\n",
              "      <th>std</th>\n",
              "      <th>min</th>\n",
              "      <th>25%</th>\n",
              "      <th>50%</th>\n",
              "      <th>75%</th>\n",
              "      <th>max</th>\n",
              "    </tr>\n",
              "  </thead>\n",
              "  <tbody>\n",
              "    <tr>\n",
              "      <th>rooms</th>\n",
              "      <td>61043.0</td>\n",
              "      <td>2.779057</td>\n",
              "      <td>1.024064</td>\n",
              "      <td>1.0</td>\n",
              "      <td>2.0</td>\n",
              "      <td>3.0</td>\n",
              "      <td>3.0</td>\n",
              "      <td>6.0</td>\n",
              "    </tr>\n",
              "    <tr>\n",
              "      <th>bedrooms</th>\n",
              "      <td>61043.0</td>\n",
              "      <td>1.839654</td>\n",
              "      <td>0.856027</td>\n",
              "      <td>1.0</td>\n",
              "      <td>1.0</td>\n",
              "      <td>2.0</td>\n",
              "      <td>2.0</td>\n",
              "      <td>4.0</td>\n",
              "    </tr>\n",
              "    <tr>\n",
              "      <th>bathrooms</th>\n",
              "      <td>61043.0</td>\n",
              "      <td>1.401733</td>\n",
              "      <td>0.644724</td>\n",
              "      <td>1.0</td>\n",
              "      <td>1.0</td>\n",
              "      <td>1.0</td>\n",
              "      <td>2.0</td>\n",
              "      <td>10.0</td>\n",
              "    </tr>\n",
              "    <tr>\n",
              "      <th>surface_total</th>\n",
              "      <td>61043.0</td>\n",
              "      <td>78.209082</td>\n",
              "      <td>41.429062</td>\n",
              "      <td>10.0</td>\n",
              "      <td>48.0</td>\n",
              "      <td>67.0</td>\n",
              "      <td>96.0</td>\n",
              "      <td>291.0</td>\n",
              "    </tr>\n",
              "    <tr>\n",
              "      <th>surface_covered</th>\n",
              "      <td>61043.0</td>\n",
              "      <td>68.351424</td>\n",
              "      <td>33.644598</td>\n",
              "      <td>1.0</td>\n",
              "      <td>43.0</td>\n",
              "      <td>60.0</td>\n",
              "      <td>83.0</td>\n",
              "      <td>200.0</td>\n",
              "    </tr>\n",
              "    <tr>\n",
              "      <th>price</th>\n",
              "      <td>61043.0</td>\n",
              "      <td>199084.150599</td>\n",
              "      <td>121281.244191</td>\n",
              "      <td>34300.0</td>\n",
              "      <td>115000.0</td>\n",
              "      <td>164700.0</td>\n",
              "      <td>248000.0</td>\n",
              "      <td>700000.0</td>\n",
              "    </tr>\n",
              "  </tbody>\n",
              "</table>\n",
              "</div>"
            ],
            "text/plain": [
              "                   count           mean  ...       75%       max\n",
              "rooms            61043.0       2.779057  ...       3.0       6.0\n",
              "bedrooms         61043.0       1.839654  ...       2.0       4.0\n",
              "bathrooms        61043.0       1.401733  ...       2.0      10.0\n",
              "surface_total    61043.0      78.209082  ...      96.0     291.0\n",
              "surface_covered  61043.0      68.351424  ...      83.0     200.0\n",
              "price            61043.0  199084.150599  ...  248000.0  700000.0\n",
              "\n",
              "[6 rows x 8 columns]"
            ]
          },
          "metadata": {
            "tags": []
          },
          "execution_count": 8
        }
      ]
    },
    {
      "cell_type": "code",
      "metadata": {
        "id": "iIqUmEytI2Wr"
      },
      "source": [
        "class MinMax:\n",
        "    def __init__(self):\n",
        "        self.min_val = None\n",
        "        self.max_val = None\n",
        "\n",
        "    def fit_transform(self, data: pd.DataFrame):\n",
        "        \"\"\" Aplica una escala MinMax a los datos, \n",
        "        Almacena los valores máximos y mínimos para desnormalizar\n",
        "        Xt = X - min / (max - min)\n",
        "        \"\"\"\n",
        "        values = data.values\n",
        "        self.max_val, self.min_val = values.max(), values.min()\n",
        "        div = self.max_val - self.min_val\n",
        "        return (values - self.min_val) / div\n",
        "    \n",
        "    def inverse_transform(self, data: np.ndarray):\n",
        "        \"\"\"Des-escala un dataframe\n",
        "        X = Xt * (max - min) + min\n",
        "        \"\"\"\n",
        "        return data * (self.max_val - self.min_val) + self.min_val\n",
        "\n",
        "\n",
        "    def inverse_transform_uno(self, value):\n",
        "        \"\"\"Des-escala un valor (UN UNICO VALOR)\n",
        "        X = Xt * (max - min) + min\n",
        "        \"\"\"\n",
        "        return value * (self.max_val - self.min_val) + self.min_val"
      ],
      "execution_count": 9,
      "outputs": []
    },
    {
      "cell_type": "code",
      "metadata": {
        "colab": {
          "base_uri": "https://localhost:8080/",
          "height": 858
        },
        "id": "PgRo3ORZSoCC",
        "outputId": "9a328c65-0651-4d3c-e649-6def2fc90550"
      },
      "source": [
        "#@title Normalizar datos numéricos (OPCIONAL) { run: \"auto\" }\n",
        "\n",
        "aplica_normalizacion = True #@param {type:\"boolean\"}\n",
        "#@markdown Si se aplica, seleccione el tipo de método de normalización a aplicar:\n",
        "tipo_normalizacion = \"Standard Scaler\" #@param [\"Standard Scaler\", \"MinMax Scaler\", \"MaxAbs Scaler\", \"Robust Scaler\"]\n",
        "\n",
        "data_norm = data.copy()\n",
        "price_scaler = MinMax()\n",
        "\n",
        "if aplica_normalizacion:\n",
        "\n",
        "    print(\"5 primeros ejemplos antes de normalizar: \")\n",
        "    display(data_norm.head())\n",
        "\n",
        "    # elegir el método de normalización\n",
        "    scaler = {\n",
        "        'Standard Scaler': StandardScaler(),\n",
        "        'MinMax Scaler': MinMaxScaler(),\n",
        "        'MaxMax Scaler': MaxAbsScaler(),\n",
        "        'Robust Scaler': RobustScaler()\n",
        "    }[tipo_normalizacion]\n",
        "\n",
        "    # aplica la normalización sólo en columnas de datos\n",
        "    for columna in data_norm.columns:\n",
        "        if is_numeric(data_norm[columna]):\n",
        "            if columna == 'price':\n",
        "                data_norm[columna] = price_scaler.fit_transform(data_norm[columna])\n",
        "            else:\n",
        "                data_norm[columna] = scaler.fit_transform(data_norm[columna].values.reshape(-1, 1))\n",
        "\n",
        "    print(\"\\n\\n5 primeros ejemplos después de normalizar: \")\n",
        "    display( data_norm.head() )\n",
        "\n",
        "    # muestra las estadísticas del normalizado\n",
        "    generar_estadisticas_detalladas(data_norm, \"> Estadísticas de los datos normalizados\") \n",
        "else:\n",
        "  print(\"No se aplica la normalización de los datos.\")\n"
      ],
      "execution_count": 10,
      "outputs": [
        {
          "output_type": "stream",
          "text": [
            "5 primeros ejemplos antes de normalizar: \n"
          ],
          "name": "stdout"
        },
        {
          "output_type": "display_data",
          "data": {
            "text/html": [
              "<div>\n",
              "<style scoped>\n",
              "    .dataframe tbody tr th:only-of-type {\n",
              "        vertical-align: middle;\n",
              "    }\n",
              "\n",
              "    .dataframe tbody tr th {\n",
              "        vertical-align: top;\n",
              "    }\n",
              "\n",
              "    .dataframe thead th {\n",
              "        text-align: right;\n",
              "    }\n",
              "</style>\n",
              "<table border=\"1\" class=\"dataframe\">\n",
              "  <thead>\n",
              "    <tr style=\"text-align: right;\">\n",
              "      <th></th>\n",
              "      <th>neighborhood</th>\n",
              "      <th>rooms</th>\n",
              "      <th>bedrooms</th>\n",
              "      <th>bathrooms</th>\n",
              "      <th>surface_total</th>\n",
              "      <th>surface_covered</th>\n",
              "      <th>price</th>\n",
              "      <th>property_type</th>\n",
              "    </tr>\n",
              "  </thead>\n",
              "  <tbody>\n",
              "    <tr>\n",
              "      <th>235</th>\n",
              "      <td>Mataderos</td>\n",
              "      <td>2.0</td>\n",
              "      <td>1.0</td>\n",
              "      <td>1.0</td>\n",
              "      <td>61.0</td>\n",
              "      <td>61.0</td>\n",
              "      <td>110600.0</td>\n",
              "      <td>Departamento</td>\n",
              "    </tr>\n",
              "    <tr>\n",
              "      <th>236</th>\n",
              "      <td>Almagro</td>\n",
              "      <td>2.0</td>\n",
              "      <td>1.0</td>\n",
              "      <td>1.0</td>\n",
              "      <td>143.0</td>\n",
              "      <td>143.0</td>\n",
              "      <td>239000.0</td>\n",
              "      <td>Departamento</td>\n",
              "    </tr>\n",
              "    <tr>\n",
              "      <th>237</th>\n",
              "      <td>Palermo</td>\n",
              "      <td>2.0</td>\n",
              "      <td>1.0</td>\n",
              "      <td>1.0</td>\n",
              "      <td>40.0</td>\n",
              "      <td>34.0</td>\n",
              "      <td>89000.0</td>\n",
              "      <td>Departamento</td>\n",
              "    </tr>\n",
              "    <tr>\n",
              "      <th>238</th>\n",
              "      <td>Paternal</td>\n",
              "      <td>2.0</td>\n",
              "      <td>1.0</td>\n",
              "      <td>1.0</td>\n",
              "      <td>59.0</td>\n",
              "      <td>36.0</td>\n",
              "      <td>82000.0</td>\n",
              "      <td>PH</td>\n",
              "    </tr>\n",
              "    <tr>\n",
              "      <th>240</th>\n",
              "      <td>Saavedra</td>\n",
              "      <td>2.0</td>\n",
              "      <td>1.0</td>\n",
              "      <td>1.0</td>\n",
              "      <td>46.0</td>\n",
              "      <td>43.0</td>\n",
              "      <td>110000.0</td>\n",
              "      <td>Departamento</td>\n",
              "    </tr>\n",
              "  </tbody>\n",
              "</table>\n",
              "</div>"
            ],
            "text/plain": [
              "    neighborhood  rooms  bedrooms  ...  surface_covered     price  property_type\n",
              "235    Mataderos    2.0       1.0  ...             61.0  110600.0   Departamento\n",
              "236      Almagro    2.0       1.0  ...            143.0  239000.0   Departamento\n",
              "237      Palermo    2.0       1.0  ...             34.0   89000.0   Departamento\n",
              "238     Paternal    2.0       1.0  ...             36.0   82000.0             PH\n",
              "240     Saavedra    2.0       1.0  ...             43.0  110000.0   Departamento\n",
              "\n",
              "[5 rows x 8 columns]"
            ]
          },
          "metadata": {
            "tags": []
          }
        },
        {
          "output_type": "stream",
          "text": [
            "\n",
            "\n",
            "5 primeros ejemplos después de normalizar: \n"
          ],
          "name": "stdout"
        },
        {
          "output_type": "display_data",
          "data": {
            "text/html": [
              "<div>\n",
              "<style scoped>\n",
              "    .dataframe tbody tr th:only-of-type {\n",
              "        vertical-align: middle;\n",
              "    }\n",
              "\n",
              "    .dataframe tbody tr th {\n",
              "        vertical-align: top;\n",
              "    }\n",
              "\n",
              "    .dataframe thead th {\n",
              "        text-align: right;\n",
              "    }\n",
              "</style>\n",
              "<table border=\"1\" class=\"dataframe\">\n",
              "  <thead>\n",
              "    <tr style=\"text-align: right;\">\n",
              "      <th></th>\n",
              "      <th>neighborhood</th>\n",
              "      <th>rooms</th>\n",
              "      <th>bedrooms</th>\n",
              "      <th>bathrooms</th>\n",
              "      <th>surface_total</th>\n",
              "      <th>surface_covered</th>\n",
              "      <th>price</th>\n",
              "      <th>property_type</th>\n",
              "    </tr>\n",
              "  </thead>\n",
              "  <tbody>\n",
              "    <tr>\n",
              "      <th>235</th>\n",
              "      <td>Mataderos</td>\n",
              "      <td>-0.760757</td>\n",
              "      <td>-0.980881</td>\n",
              "      <td>-0.623114</td>\n",
              "      <td>-0.415390</td>\n",
              "      <td>-0.218504</td>\n",
              "      <td>0.114616</td>\n",
              "      <td>Departamento</td>\n",
              "    </tr>\n",
              "    <tr>\n",
              "      <th>236</th>\n",
              "      <td>Almagro</td>\n",
              "      <td>-0.760757</td>\n",
              "      <td>-0.980881</td>\n",
              "      <td>-0.623114</td>\n",
              "      <td>1.563913</td>\n",
              "      <td>2.218757</td>\n",
              "      <td>0.307496</td>\n",
              "      <td>Departamento</td>\n",
              "    </tr>\n",
              "    <tr>\n",
              "      <th>237</th>\n",
              "      <td>Palermo</td>\n",
              "      <td>-0.760757</td>\n",
              "      <td>-0.980881</td>\n",
              "      <td>-0.623114</td>\n",
              "      <td>-0.922285</td>\n",
              "      <td>-1.021017</td>\n",
              "      <td>0.082169</td>\n",
              "      <td>Departamento</td>\n",
              "    </tr>\n",
              "    <tr>\n",
              "      <th>238</th>\n",
              "      <td>Paternal</td>\n",
              "      <td>-0.760757</td>\n",
              "      <td>-0.980881</td>\n",
              "      <td>-0.623114</td>\n",
              "      <td>-0.463666</td>\n",
              "      <td>-0.961572</td>\n",
              "      <td>0.071654</td>\n",
              "      <td>PH</td>\n",
              "    </tr>\n",
              "    <tr>\n",
              "      <th>240</th>\n",
              "      <td>Saavedra</td>\n",
              "      <td>-0.760757</td>\n",
              "      <td>-0.980881</td>\n",
              "      <td>-0.623114</td>\n",
              "      <td>-0.777458</td>\n",
              "      <td>-0.753513</td>\n",
              "      <td>0.113715</td>\n",
              "      <td>Departamento</td>\n",
              "    </tr>\n",
              "  </tbody>\n",
              "</table>\n",
              "</div>"
            ],
            "text/plain": [
              "    neighborhood     rooms  bedrooms  ...  surface_covered     price  property_type\n",
              "235    Mataderos -0.760757 -0.980881  ...        -0.218504  0.114616   Departamento\n",
              "236      Almagro -0.760757 -0.980881  ...         2.218757  0.307496   Departamento\n",
              "237      Palermo -0.760757 -0.980881  ...        -1.021017  0.082169   Departamento\n",
              "238     Paternal -0.760757 -0.980881  ...        -0.961572  0.071654             PH\n",
              "240     Saavedra -0.760757 -0.980881  ...        -0.753513  0.113715   Departamento\n",
              "\n",
              "[5 rows x 8 columns]"
            ]
          },
          "metadata": {
            "tags": []
          }
        },
        {
          "output_type": "stream",
          "text": [
            "\n",
            " > Estadísticas de los datos normalizados : \n"
          ],
          "name": "stdout"
        },
        {
          "output_type": "display_data",
          "data": {
            "text/html": [
              "<div>\n",
              "<style scoped>\n",
              "    .dataframe tbody tr th:only-of-type {\n",
              "        vertical-align: middle;\n",
              "    }\n",
              "\n",
              "    .dataframe tbody tr th {\n",
              "        vertical-align: top;\n",
              "    }\n",
              "\n",
              "    .dataframe thead th {\n",
              "        text-align: right;\n",
              "    }\n",
              "</style>\n",
              "<table border=\"1\" class=\"dataframe\">\n",
              "  <thead>\n",
              "    <tr style=\"text-align: right;\">\n",
              "      <th></th>\n",
              "      <th>Tipo Valor</th>\n",
              "      <th>Rango Valores</th>\n",
              "      <th>Promedio ± Desvío</th>\n",
              "      <th>¿Valores Ceros?</th>\n",
              "      <th>¿Valores Nulos?</th>\n",
              "    </tr>\n",
              "  </thead>\n",
              "  <tbody>\n",
              "    <tr>\n",
              "      <th>neighborhood</th>\n",
              "      <td>object</td>\n",
              "      <td>{ Palermo            7413 ; Belgrano           5385 ; Almagro            4306 ; Villa Crespo       4227 ; Caballito          4209 ;                    ...  ; Parque Chas          94 ; Villa Real           66 ; Villa Soldati        34 ; Catalinas             8 ; Villa Riachuelo       8 }</td>\n",
              "      <td>-</td>\n",
              "      <td>0</td>\n",
              "      <td>0</td>\n",
              "    </tr>\n",
              "    <tr>\n",
              "      <th>rooms</th>\n",
              "      <td>float64</td>\n",
              "      <td>[ -1.74 ; 3.15 ]</td>\n",
              "      <td>0.000 ± 1.000</td>\n",
              "      <td>0</td>\n",
              "      <td>0</td>\n",
              "    </tr>\n",
              "    <tr>\n",
              "      <th>bedrooms</th>\n",
              "      <td>float64</td>\n",
              "      <td>[ -0.98 ; 2.52 ]</td>\n",
              "      <td>0.000 ± 1.000</td>\n",
              "      <td>0</td>\n",
              "      <td>0</td>\n",
              "    </tr>\n",
              "    <tr>\n",
              "      <th>bathrooms</th>\n",
              "      <td>float64</td>\n",
              "      <td>[ -0.62 ; 13.34 ]</td>\n",
              "      <td>-0.000 ± 1.000</td>\n",
              "      <td>0</td>\n",
              "      <td>0</td>\n",
              "    </tr>\n",
              "    <tr>\n",
              "      <th>surface_total</th>\n",
              "      <td>float64</td>\n",
              "      <td>[ -1.65 ; 5.14 ]</td>\n",
              "      <td>0.000 ± 1.000</td>\n",
              "      <td>0</td>\n",
              "      <td>0</td>\n",
              "    </tr>\n",
              "    <tr>\n",
              "      <th>surface_covered</th>\n",
              "      <td>float64</td>\n",
              "      <td>[ -2.00 ; 3.91 ]</td>\n",
              "      <td>-0.000 ± 1.000</td>\n",
              "      <td>0</td>\n",
              "      <td>0</td>\n",
              "    </tr>\n",
              "    <tr>\n",
              "      <th>price</th>\n",
              "      <td>float64</td>\n",
              "      <td>[ 0.00 ; 1.00 ]</td>\n",
              "      <td>0.248 ± 0.182</td>\n",
              "      <td>6</td>\n",
              "      <td>0</td>\n",
              "    </tr>\n",
              "    <tr>\n",
              "      <th>property_type</th>\n",
              "      <td>object</td>\n",
              "      <td>{ Departamento    53809 ; PH               6089 ; Casa              837 ; Oficina           308 }</td>\n",
              "      <td>-</td>\n",
              "      <td>0</td>\n",
              "      <td>0</td>\n",
              "    </tr>\n",
              "  </tbody>\n",
              "</table>\n",
              "</div>"
            ],
            "text/plain": [
              "                Tipo Valor  ... ¿Valores Nulos?\n",
              "neighborhood        object  ...               0\n",
              "rooms              float64  ...               0\n",
              "bedrooms           float64  ...               0\n",
              "bathrooms          float64  ...               0\n",
              "surface_total      float64  ...               0\n",
              "surface_covered    float64  ...               0\n",
              "price              float64  ...               0\n",
              "property_type       object  ...               0\n",
              "\n",
              "[8 rows x 5 columns]"
            ]
          },
          "metadata": {
            "tags": []
          }
        },
        {
          "output_type": "stream",
          "text": [
            "Tiene 8 atributos y 61043 ejemplos.\n",
            "\n",
            "\n"
          ],
          "name": "stdout"
        }
      ]
    },
    {
      "cell_type": "code",
      "metadata": {
        "id": "xfKdSoNMLYIo",
        "colab": {
          "base_uri": "https://localhost:8080/",
          "height": 1000
        },
        "outputId": "a852be76-7fe2-4217-b268-3e6fba4bab5b"
      },
      "source": [
        "data_stat = data.copy()\n",
        "\n",
        "x = data_stat.drop(['price', 'rooms', 'bedrooms', 'bathrooms'], axis=1)\n",
        "plot_box_graph(x, 'Surfaces')\n",
        "\n",
        "x = data_stat.drop(['price', 'surface_total', 'surface_covered'], axis=1)\n",
        "plot_box_graph(x, 'Rooms')\n",
        "\n",
        "x = data_stat.drop(['surface_total', 'surface_covered', 'rooms', 'bedrooms', 'bathrooms'], axis=1)\n",
        "plot_box_graph(x, 'Price')\n",
        "\n",
        "generar_estadisticas_detalladas(data, 'Estadísticas')"
      ],
      "execution_count": 11,
      "outputs": [
        {
          "output_type": "display_data",
          "data": {
            "image/png": "[encoded data removed]",
            "text/plain": [
              "<Figure size 1080x576 with 1 Axes>"
            ]
          },
          "metadata": {
            "tags": [],
            "needs_background": "light"
          }
        },
        {
          "output_type": "display_data",
          "data": {
            "image/png": "[encoded data removed]",
            "text/plain": [
              "<Figure size 1080x576 with 1 Axes>"
            ]
          },
          "metadata": {
            "tags": [],
            "needs_background": "light"
          }
        },
        {
          "output_type": "display_data",
          "data": {
            "image/png": "[encoded data removed]",
            "text/plain": [
              "<Figure size 1080x576 with 1 Axes>"
            ]
          },
          "metadata": {
            "tags": [],
            "needs_background": "light"
          }
        },
        {
          "output_type": "stream",
          "text": [
            "\n",
            " Estadísticas : \n"
          ],
          "name": "stdout"
        },
        {
          "output_type": "display_data",
          "data": {
            "text/html": [
              "<div>\n",
              "<style scoped>\n",
              "    .dataframe tbody tr th:only-of-type {\n",
              "        vertical-align: middle;\n",
              "    }\n",
              "\n",
              "    .dataframe tbody tr th {\n",
              "        vertical-align: top;\n",
              "    }\n",
              "\n",
              "    .dataframe thead th {\n",
              "        text-align: right;\n",
              "    }\n",
              "</style>\n",
              "<table border=\"1\" class=\"dataframe\">\n",
              "  <thead>\n",
              "    <tr style=\"text-align: right;\">\n",
              "      <th></th>\n",
              "      <th>Tipo Valor</th>\n",
              "      <th>Rango Valores</th>\n",
              "      <th>Promedio ± Desvío</th>\n",
              "      <th>¿Valores Ceros?</th>\n",
              "      <th>¿Valores Nulos?</th>\n",
              "    </tr>\n",
              "  </thead>\n",
              "  <tbody>\n",
              "    <tr>\n",
              "      <th>neighborhood</th>\n",
              "      <td>object</td>\n",
              "      <td>{ Palermo            7413 ; Belgrano           5385 ; Almagro            4306 ; Villa Crespo       4227 ; Caballito          4209 ;                    ...  ; Parque Chas          94 ; Villa Real           66 ; Villa Soldati        34 ; Catalinas             8 ; Villa Riachuelo       8 }</td>\n",
              "      <td>-</td>\n",
              "      <td>0</td>\n",
              "      <td>0</td>\n",
              "    </tr>\n",
              "    <tr>\n",
              "      <th>rooms</th>\n",
              "      <td>float64</td>\n",
              "      <td>[ 1.00 ; 6.00 ]</td>\n",
              "      <td>2.779 ± 1.024</td>\n",
              "      <td>0</td>\n",
              "      <td>0</td>\n",
              "    </tr>\n",
              "    <tr>\n",
              "      <th>bedrooms</th>\n",
              "      <td>float64</td>\n",
              "      <td>[ 1.00 ; 4.00 ]</td>\n",
              "      <td>1.840 ± 0.856</td>\n",
              "      <td>0</td>\n",
              "      <td>0</td>\n",
              "    </tr>\n",
              "    <tr>\n",
              "      <th>bathrooms</th>\n",
              "      <td>float64</td>\n",
              "      <td>[ 1.00 ; 10.00 ]</td>\n",
              "      <td>1.402 ± 0.645</td>\n",
              "      <td>0</td>\n",
              "      <td>0</td>\n",
              "    </tr>\n",
              "    <tr>\n",
              "      <th>surface_total</th>\n",
              "      <td>float64</td>\n",
              "      <td>[ 10.00 ; 291.00 ]</td>\n",
              "      <td>78.209 ± 41.429</td>\n",
              "      <td>0</td>\n",
              "      <td>0</td>\n",
              "    </tr>\n",
              "    <tr>\n",
              "      <th>surface_covered</th>\n",
              "      <td>float64</td>\n",
              "      <td>[ 1.00 ; 200.00 ]</td>\n",
              "      <td>68.351 ± 33.645</td>\n",
              "      <td>0</td>\n",
              "      <td>0</td>\n",
              "    </tr>\n",
              "    <tr>\n",
              "      <th>price</th>\n",
              "      <td>float64</td>\n",
              "      <td>[ 34300.00 ; 700000.00 ]</td>\n",
              "      <td>199084.151 ± 121281.244</td>\n",
              "      <td>0</td>\n",
              "      <td>0</td>\n",
              "    </tr>\n",
              "    <tr>\n",
              "      <th>property_type</th>\n",
              "      <td>object</td>\n",
              "      <td>{ Departamento    53809 ; PH               6089 ; Casa              837 ; Oficina           308 }</td>\n",
              "      <td>-</td>\n",
              "      <td>0</td>\n",
              "      <td>0</td>\n",
              "    </tr>\n",
              "  </tbody>\n",
              "</table>\n",
              "</div>"
            ],
            "text/plain": [
              "                Tipo Valor  ... ¿Valores Nulos?\n",
              "neighborhood        object  ...               0\n",
              "rooms              float64  ...               0\n",
              "bedrooms           float64  ...               0\n",
              "bathrooms          float64  ...               0\n",
              "surface_total      float64  ...               0\n",
              "surface_covered    float64  ...               0\n",
              "price              float64  ...               0\n",
              "property_type       object  ...               0\n",
              "\n",
              "[8 rows x 5 columns]"
            ]
          },
          "metadata": {
            "tags": []
          }
        },
        {
          "output_type": "stream",
          "text": [
            "Tiene 8 atributos y 61043 ejemplos.\n",
            "\n",
            "\n"
          ],
          "name": "stdout"
        }
      ]
    },
    {
      "cell_type": "markdown",
      "metadata": {
        "id": "qVBJdYBMU4Kx"
      },
      "source": [
        "# Gráficos estadísticos"
      ]
    },
    {
      "cell_type": "code",
      "metadata": {
        "colab": {
          "base_uri": "https://localhost:8080/",
          "height": 749
        },
        "id": "s-m_7B-cbZR0",
        "outputId": "5ff41322-37cb-4a02-a7fc-963bbcf90ae1"
      },
      "source": [
        "#@title Clusterizar con K-Means { run: \"auto\" }\n",
        "#@markdown Cantidad de clústeres a generar:\n",
        "cantidad_clusters =  5#@param {type:\"integer\"}\n",
        "\n",
        "# Se clusteriza con datos numéricos\n",
        "data_clust = only_numerics(data_norm)\n",
        "\n",
        "# Como mínimo se tienen que generar dos clusters\n",
        "if cantidad_clusters < 2:\n",
        "    cantidad_clusters = 2\n",
        "\n",
        "plot_pca(data_norm)\n",
        "kmeans = KMeans(n_clusters=cantidad_clusters).fit(data_clust)\n",
        "plot_pca(data_norm, classes=kmeans.labels_)"
      ],
      "execution_count": 12,
      "outputs": [
        {
          "output_type": "display_data",
          "data": {
            "image/png": "[encoded data removed]",
            "text/plain": [
              "<Figure size 402.25x360 with 1 Axes>"
            ]
          },
          "metadata": {
            "tags": [],
            "needs_background": "light"
          }
        },
        {
          "output_type": "display_data",
          "data": {
            "image/png": "[encoded data removed]",
            "text/plain": [
              "<Figure size 402.375x360 with 1 Axes>"
            ]
          },
          "metadata": {
            "tags": [],
            "needs_background": "light"
          }
        }
      ]
    },
    {
      "cell_type": "code",
      "metadata": {
        "colab": {
          "base_uri": "https://localhost:8080/",
          "height": 257,
          "referenced_widgets": [
            "96605cd5794d4b5699d8ab2507faabc1",
            "8b6abe8835e9427593c036d4ac05f91d",
            "dc77653b55364a74aedeb89f6330fabe",
            "c360cf78d45f4204b8a9d757c932c18c",
            "b38e7b20d87645b5b96a8dc96ae42230",
            "93dd83e4f39a4324b95fc17e1075c0fb",
            "ead1869617d1437ebe446d4db4f156bc",
            "27a0b1242ea848108bc18a3a9b56b56c",
            "31a72a249adc4f54987cbb0b40637c45",
            "7927a71cabf249c3875ae4e1f8a34f87"
          ]
        },
        "id": "Riy198ltlJoA",
        "outputId": "a20e0dc5-8331-4c42-c3a5-2e36d3f8fade"
      },
      "source": [
        "#@title Análisis de datos\n",
        "data_stat = data.copy()\n",
        "data_stat['class'] = kmeans.labels_\n",
        "\n",
        "y_cols = list(data_stat.columns)\n",
        "x_cols = list(data_stat.drop(columns=['neighborhood'], axis=1).columns)\n",
        "\n",
        "y_data = np.array(data_stat)\n",
        "x_data = np.array(data_stat.drop(columns=['neighborhood'], axis=1))\n",
        "\n",
        "combo_x = widgets.Dropdown(\n",
        "    options=x_cols,\n",
        "    value=x_cols[0],\n",
        "    description='Columna X:',\n",
        "    disabled=False,\n",
        ")\n",
        "\n",
        "combo_y = widgets.Dropdown(\n",
        "    options=y_cols,\n",
        "    value=y_cols[1],\n",
        "    description='Columna Y:',\n",
        "    disabled=False,\n",
        ")\n",
        "\n",
        "ui = widgets.HBox([combo_x, combo_y])\n",
        "\n",
        "def cambiaSeleccion(x, y):\n",
        "    X = x_data[:, x_cols.index(x)]\n",
        "    Y = y_data[:, y_cols.index(y)]\n",
        "\n",
        "    if x == 'property_type':\n",
        "        x_size = 3\n",
        "    elif max(X) < 15:\n",
        "        x_size = max(X) / 2\n",
        "    else:\n",
        "        x_size = 15\n",
        "\n",
        "    if y == 'property_type':\n",
        "        y_size = 3\n",
        "    elif y == 'neighborhood':\n",
        "        y_size = 20\n",
        "    elif max(Y) < 15:\n",
        "        y_size = max(Y) / 2\n",
        "    else:\n",
        "        y_size = 15\n",
        "\n",
        "    plt.figure(figsize=(x_size, y_size))\n",
        "    plt.scatter(X, Y, c=kmeans.labels_)\n",
        "    plt.xlabel(x)\n",
        "    plt.ylabel(y)\n",
        "    plt.show()\n",
        "\n",
        "out = widgets.interactive_output(cambiaSeleccion, {'x': combo_x, 'y': combo_y})\n",
        "display(ui, out)"
      ],
      "execution_count": 13,
      "outputs": [
        {
          "output_type": "display_data",
          "data": {
            "application/vnd.jupyter.widget-view+json": {
              "model_id": "96605cd5794d4b5699d8ab2507faabc1",
              "version_minor": 0,
              "version_major": 2
            },
            "text/plain": [
              "HBox(children=(Dropdown(description='Columna X:', options=('rooms', 'bedrooms', 'bathrooms', 'surface_total', …"
            ]
          },
          "metadata": {
            "tags": []
          }
        },
        {
          "output_type": "display_data",
          "data": {
            "application/vnd.jupyter.widget-view+json": {
              "model_id": "31a72a249adc4f54987cbb0b40637c45",
              "version_minor": 0,
              "version_major": 2
            },
            "text/plain": [
              "Output()"
            ]
          },
          "metadata": {
            "tags": []
          }
        }
      ]
    },
    {
      "cell_type": "markdown",
      "metadata": {
        "id": "kcGHU5YmAwpF"
      },
      "source": [
        "# DNN\n",
        "https://towardsdatascience.com/training-neural-networks-for-price-prediction-with-tensorflow-8aafe0c55198"
      ]
    },
    {
      "cell_type": "markdown",
      "metadata": {
        "id": "PhVFGKzLL_1c"
      },
      "source": [
        "### Auxiliares"
      ]
    },
    {
      "cell_type": "code",
      "metadata": {
        "colab": {
          "base_uri": "https://localhost:8080/",
          "height": 0
        },
        "id": "3YV5Zi-rQbll",
        "outputId": "ef461c22-c41c-47f1-a868-2328bb034610"
      },
      "source": [
        "from IPython.display import HTML\n",
        "HTML('''<script>\n",
        "code_show=true; \n",
        "function code_toggle() {\n",
        " if (code_show){\n",
        " $('div.input').hide();\n",
        " } else {\n",
        " $('div.input').show();\n",
        " }\n",
        " code_show = !code_show\n",
        "} \n",
        "$( document ).ready(code_toggle);\n",
        "</script>\n",
        "The raw code for this IPython notebook is by default hidden for easier reading.\n",
        "To toggle on/off the raw code, click <a href=\"javascript:code_toggle()\">here</a>.''')"
      ],
      "execution_count": 14,
      "outputs": [
        {
          "output_type": "execute_result",
          "data": {
            "text/html": [
              "<script>\n",
              "code_show=true; \n",
              "function code_toggle() {\n",
              " if (code_show){\n",
              " $('div.input').hide();\n",
              " } else {\n",
              " $('div.input').show();\n",
              " }\n",
              " code_show = !code_show\n",
              "} \n",
              "$( document ).ready(code_toggle);\n",
              "</script>\n",
              "The raw code for this IPython notebook is by default hidden for easier reading.\n",
              "To toggle on/off the raw code, click <a href=\"javascript:code_toggle()\">here</a>."
            ],
            "text/plain": [
              "<IPython.core.display.HTML object>"
            ]
          },
          "metadata": {
            "tags": []
          },
          "execution_count": 14
        }
      ]
    },
    {
      "cell_type": "code",
      "metadata": {
        "id": "nortjg2qLvtX"
      },
      "source": [
        "# Funciones auxiliares\n",
        "def performance_summary(model, X_test, y_test ):\n",
        "    \n",
        "    y_hat=model.predict(X_test)\n",
        "    \n",
        "    df_summary=pd.DataFrame(y_hat, columns=[\"y_hat\"])\n",
        "    df_summary[\"y_true\"]=y_test\n",
        "    df_summary[\"abs_error\"]=np.abs(df_summary.y_true-df_summary.y_hat)\n",
        "    df_summary[\"error\"]=df_summary.y_hat-df_summary.y_true\n",
        "    df_summary[\"relative_error\"]= df_summary[\"error\"]/df_summary.y_true\n",
        "    df_summary[\"relative_abs_error\"]= df_summary[\"abs_error\"]/df_summary.y_true\n",
        "    \n",
        "    share_within_5pct=(df_summary.query(\"relative_abs_error<0.05\").shape[0]/df_summary.shape[0])*100\n",
        "    \n",
        "    print(\"{:.2f}% : Share of forecasts within 5% absolute error\\n\".format(share_within_5pct))\n",
        "    print(\"{:.0f}   : Mean absolute error \\n\".format(df_summary.abs_error.mean()))\n",
        "    print(\"{:.2f}% : Mean absolute percentage error\\n\".format(df_summary.relative_abs_error.mean()*100))\n",
        "\n",
        "def DNN_plot_loss(history, starting_epoch, previous_val_loss):\n",
        "\n",
        "        trace0=go.Scatter(\n",
        "                y=history.history['loss'][starting_epoch:],\n",
        "                x=history.epoch[starting_epoch:],\n",
        "                mode='lines',\n",
        "                marker=dict(\n",
        "                color=\"blue\",\n",
        "                size=5,\n",
        "                opacity=0.5\n",
        "                ),\n",
        "                name=\"Training Loss\"\n",
        "            )\n",
        "\n",
        "\n",
        "        trace1=go.Scatter(\n",
        "                y=history.history['val_loss'][starting_epoch:],\n",
        "                x=history.epoch[starting_epoch:],\n",
        "                mode='lines',\n",
        "                marker=dict(\n",
        "                color=\"red\",\n",
        "                size=5,\n",
        "                opacity=0.5\n",
        "                ),\n",
        "                name=\"Validation Loss\"\n",
        "            )\n",
        "        \n",
        "        trace2=go.Scatter(\n",
        "                y=list(np.ones([len(history.epoch[starting_epoch:])])*np.asarray(previous_val_loss).min()),\n",
        "                x=history.epoch[starting_epoch:],\n",
        "                mode='lines',\n",
        "                marker=dict(\n",
        "                color=\"grey\",\n",
        "                size=5,\n",
        "\n",
        "                ),\n",
        "                name=\"Lowest error from previous models\"\n",
        "            )\n",
        "\n",
        "        data=[trace0, trace1,trace2]\n",
        "        figure=go.Figure(\n",
        "            data=data,\n",
        "            layout=go.Layout(\n",
        "                title=\"Learning curve\",\n",
        "                yaxis=dict(title=\"Loss\",range=(900,1500)),\n",
        "                xaxis=dict(title=\"Epoch\",range=(starting_epoch,history.epoch[-1])),\n",
        "                legend=dict(\n",
        "                    x=0.57,\n",
        "                    y=1,\n",
        "                    traceorder=\"normal\",\n",
        "                    font=dict(\n",
        "                        family=\"sans-serif\",\n",
        "                        size=12,\n",
        "                        color=\"black\"\n",
        "                    ),\n",
        "                bgcolor=None,\n",
        "\n",
        "\n",
        "\n",
        "            )))\n",
        "        iplot(figure)"
      ],
      "execution_count": 15,
      "outputs": []
    },
    {
      "cell_type": "markdown",
      "metadata": {
        "id": "ZmbeckCTMGhP"
      },
      "source": [
        "### Modelo"
      ]
    },
    {
      "cell_type": "code",
      "metadata": {
        "colab": {
          "base_uri": "https://localhost:8080/",
          "height": 34
        },
        "id": "gBgMNi1BA9Uj",
        "outputId": "098c83e8-7125-4175-db15-d5e00799275a"
      },
      "source": [
        "# Libs\n",
        "from keras.models import Sequential\n",
        "from keras.layers import Dense, LeakyReLU, BatchNormalization, Dropout, InputLayer\n",
        "from keras.callbacks import ModelCheckpoint\n",
        "from matplotlib.pyplot import figure\n",
        "# from keras.utils.vis_utils import kplot_model\n",
        "from tensorflow.keras.utils import plot_model\n",
        "\n",
        "\n",
        "import keras\n",
        "\n",
        "# Cufflinks wrapper on plotly\n",
        "import cufflinks\n",
        "from IPython.core.interactiveshell import InteractiveShell\n",
        "InteractiveShell.ast_node_interactivity = 'all'\n",
        "\n",
        "from plotly.offline import iplot\n",
        "cufflinks.go_offline()\n",
        "\n",
        "# Set global theme\n",
        "\n",
        "import plotly.figure_factory as ff\n",
        "import plotly.graph_objects as go\n",
        "\n",
        "# Se resetea el dataset\n",
        "# La data ya se encuentra estandarizada y normalizada\n",
        "data_dnn = data_norm\n",
        "\n",
        "# Se arman los datos de entrenamiento\n",
        "# Strings a números\n",
        "\n",
        "def encode(df: pd.DataFrame):\n",
        "    encoder = LabelEncoder()\n",
        "    return encoder.fit_transform(df)\n",
        "\n",
        "encodables = ['neighborhood', 'property_type']\n",
        "\n",
        "for encodable in encodables:\n",
        "    data_dnn[encodable] = encode(data_dnn[encodable])\n",
        "    data_dnn[encodable] = scaler.fit_transform(data_dnn[encodable].values.reshape(-1, 1))    \n",
        "\n",
        "ixs = data_dnn.index\n",
        "\n",
        "x_train, x_test, y_train, y_test, i_train, i_test = train_test_split(data_dnn, data_dnn.price, ixs, test_size=0.2, random_state=15)\n",
        "data_dnn.head()\n",
        "\n",
        "# Transformar de pd.DataFrame a arrays de numpy para meteren modelo de keras\n",
        "x_train = np.asanyarray(x_train).astype('float32')\n",
        "x_test = np.asanyarray(x_test).astype('float32')\n",
        "y_train = np.asanyarray(y_train).astype('float32')\n",
        "y_test = np.asanyarray(y_test).astype('float32')\n",
        "\n",
        "display(x_train.shape)"
      ],
      "execution_count": 16,
      "outputs": [
        {
          "output_type": "display_data",
          "data": {
            "text/html": [
              "        <script type=\"text/javascript\">\n",
              "        window.PlotlyConfig = {MathJaxConfig: 'local'};\n",
              "        if (window.MathJax) {MathJax.Hub.Config({SVG: {font: \"STIX-Web\"}});}\n",
              "        if (typeof require !== 'undefined') {\n",
              "        require.undef(\"plotly\");\n",
              "        requirejs.config({\n",
              "            paths: {\n",
              "                'plotly': ['https://cdn.plot.ly/plotly-latest.min']\n",
              "            }\n",
              "        });\n",
              "        require(['plotly'], function(Plotly) {\n",
              "            window._Plotly = Plotly;\n",
              "        });\n",
              "        }\n",
              "        </script>\n",
              "        "
            ]
          },
          "metadata": {
            "tags": []
          }
        },
        {
          "output_type": "display_data",
          "data": {
            "text/plain": [
              "(48834, 8)"
            ]
          },
          "metadata": {
            "tags": []
          }
        }
      ]
    },
    {
      "cell_type": "code",
      "metadata": {
        "id": "e0bHIVrcEDvR",
        "colab": {
          "base_uri": "https://localhost:8080/"
        },
        "outputId": "146f7a8a-97ac-4e56-c26a-91d494d572f6"
      },
      "source": [
        "# Configuración\n",
        "\n",
        "# copypaste\n",
        "tf.keras.backend.clear_session()\n",
        "tf.random.set_seed(60)\n",
        "\n",
        "# Activación RELU para capas ocultas\n",
        "# \"Use RELU activation function for all hidden layers — you will be going nowhere with default sigmoid activation\"\n",
        "# Use Linear activation function for the single-neuron output layer\n",
        "k = 1\n",
        "k = 4\n",
        "\n",
        "entry = 1024 / k\n",
        "\n",
        "model = Sequential([\n",
        "    InputLayer(x_train.shape[1]),\n",
        "\n",
        "    Dense(entry/k),\n",
        "    LeakyReLU(), # Función Activación (Modificación de RELU que permite activar valores negativos -> preveiene matar neuronas)\n",
        "    BatchNormalization(), # Evita que neuronas muertas tengan efecto negativo en la RN\n",
        "    Dropout(0.3), # Mata neuronas para evitar sobre entrenamiento\n",
        "\n",
        "    Dense(entry/k),\n",
        "    LeakyReLU(),\n",
        "    BatchNormalization(),\n",
        "    Dropout(0.3),\n",
        "\n",
        "    Dense(512/k),\n",
        "    LeakyReLU(),\n",
        "    BatchNormalization(),\n",
        "    Dropout(0.2),\n",
        "\n",
        "    Dense(256/k),\n",
        "    LeakyReLU(),\n",
        "    BatchNormalization(),\n",
        "    Dropout(0.2),\n",
        "    \n",
        "    Dense(128/k),\n",
        "    LeakyReLU(),\n",
        "    Dropout(0.2),\n",
        "\n",
        "    # Capa de salida\n",
        "    Dense(1, activation='linear'),  # La salida es el precio (1 sólo valor)\n",
        "], name=\"Modelo\")\n",
        "\n",
        "model.summary()"
      ],
      "execution_count": null,
      "outputs": [
        {
          "output_type": "stream",
          "text": [
            "Model: \"Modelo\"\n",
            "_________________________________________________________________\n",
            "Layer (type)                 Output Shape              Param #   \n",
            "=================================================================\n",
            "dense (Dense)                (None, 64)                576       \n",
            "_________________________________________________________________\n",
            "leaky_re_lu (LeakyReLU)      (None, 64)                0         \n",
            "_________________________________________________________________\n",
            "batch_normalization (BatchNo (None, 64)                256       \n",
            "_________________________________________________________________\n",
            "dropout (Dropout)            (None, 64)                0         \n",
            "_________________________________________________________________\n",
            "dense_1 (Dense)              (None, 128)               8320      \n",
            "_________________________________________________________________\n",
            "leaky_re_lu_1 (LeakyReLU)    (None, 128)               0         \n",
            "_________________________________________________________________\n",
            "batch_normalization_1 (Batch (None, 128)               512       \n",
            "_________________________________________________________________\n",
            "dropout_1 (Dropout)          (None, 128)               0         \n",
            "_________________________________________________________________\n",
            "dense_2 (Dense)              (None, 64)                8256      \n",
            "_________________________________________________________________\n",
            "leaky_re_lu_2 (LeakyReLU)    (None, 64)                0         \n",
            "_________________________________________________________________\n",
            "batch_normalization_2 (Batch (None, 64)                256       \n",
            "_________________________________________________________________\n",
            "dropout_2 (Dropout)          (None, 64)                0         \n",
            "_________________________________________________________________\n",
            "dense_3 (Dense)              (None, 32)                2080      \n",
            "_________________________________________________________________\n",
            "leaky_re_lu_3 (LeakyReLU)    (None, 32)                0         \n",
            "_________________________________________________________________\n",
            "dropout_3 (Dropout)          (None, 32)                0         \n",
            "_________________________________________________________________\n",
            "dense_4 (Dense)              (None, 1)                 33        \n",
            "=================================================================\n",
            "Total params: 20,289\n",
            "Trainable params: 19,777\n",
            "Non-trainable params: 512\n",
            "_________________________________________________________________\n"
          ],
          "name": "stdout"
        }
      ]
    },
    {
      "cell_type": "code",
      "metadata": {
        "id": "JFG2EHnHGAHz",
        "colab": {
          "base_uri": "https://localhost:8080/"
        },
        "outputId": "14775511-06c3-44fa-ed00-4094f2937879"
      },
      "source": [
        "# Optimizador ??\n",
        "\n",
        "# Loss: pérdida entre lo que se busca y lo que el modelo encuentra\n",
        "\n",
        "optimizer = keras.optimizers.Adam(learning_rate=0.005, decay=5e-4)  # Cuando tengamos todo lindo\n",
        "\n",
        "model.compile(optimizer=optimizer, loss='mean_absolute_error')\n",
        "\n",
        "_epochs = 200\n",
        "\n",
        "def callbacks():\n",
        "    checkpoint_name = 'Weights\\Weights-{epoch:03d}--{val_loss:.5f}.hdf5' \n",
        "    checkpoint = ModelCheckpoint(checkpoint_name, monitor='val_loss', verbose = 1, save_best_only = True, mode ='auto')\n",
        "    callbacks_list = [checkpoint]\n",
        "\n",
        "history = model.fit(x_train, y_train,\n",
        "                    epochs=_epochs,\n",
        "                    validation_data=(x_test, y_test), \n",
        "                    callbacks=callbacks(),\n",
        "                    verbose=True)"
      ],
      "execution_count": null,
      "outputs": [
        {
          "output_type": "stream",
          "text": [
            "Epoch 1/200\n",
            "1527/1527 [==============================] - 23s 4ms/step - loss: 0.1655 - val_loss: 0.0178\n",
            "Epoch 2/200\n",
            "1527/1527 [==============================] - 6s 4ms/step - loss: 0.0428 - val_loss: 0.0112\n",
            "Epoch 3/200\n",
            "1527/1527 [==============================] - 6s 4ms/step - loss: 0.0374 - val_loss: 0.0397\n",
            "Epoch 4/200\n",
            "1527/1527 [==============================] - 6s 4ms/step - loss: 0.0363 - val_loss: 0.0104\n",
            "Epoch 5/200\n",
            "1527/1527 [==============================] - 6s 4ms/step - loss: 0.0339 - val_loss: 0.0088\n",
            "Epoch 6/200\n",
            "1527/1527 [==============================] - 6s 4ms/step - loss: 0.0332 - val_loss: 0.0192\n",
            "Epoch 7/200\n",
            "1527/1527 [==============================] - 6s 4ms/step - loss: 0.0321 - val_loss: 0.0050\n",
            "Epoch 8/200\n",
            "1527/1527 [==============================] - 6s 4ms/step - loss: 0.0306 - val_loss: 0.0045\n",
            "Epoch 9/200\n",
            "1527/1527 [==============================] - 6s 4ms/step - loss: 0.0305 - val_loss: 0.0106\n",
            "Epoch 10/200\n",
            "1527/1527 [==============================] - 6s 4ms/step - loss: 0.0298 - val_loss: 0.0090\n",
            "Epoch 11/200\n",
            "1527/1527 [==============================] - 6s 4ms/step - loss: 0.0292 - val_loss: 0.0049\n",
            "Epoch 12/200\n",
            "1527/1527 [==============================] - 6s 4ms/step - loss: 0.0296 - val_loss: 0.0135\n",
            "Epoch 13/200\n",
            "1527/1527 [==============================] - 6s 4ms/step - loss: 0.0285 - val_loss: 0.0141\n",
            "Epoch 14/200\n",
            "1527/1527 [==============================] - 6s 4ms/step - loss: 0.0287 - val_loss: 0.0097\n",
            "Epoch 15/200\n",
            "1527/1527 [==============================] - 6s 4ms/step - loss: 0.0288 - val_loss: 0.0221\n",
            "Epoch 16/200\n",
            "1527/1527 [==============================] - 6s 4ms/step - loss: 0.0278 - val_loss: 0.0131\n",
            "Epoch 17/200\n",
            "1527/1527 [==============================] - 6s 4ms/step - loss: 0.0279 - val_loss: 0.0110\n",
            "Epoch 18/200\n",
            "1527/1527 [==============================] - 6s 4ms/step - loss: 0.0283 - val_loss: 0.0150\n",
            "Epoch 19/200\n",
            "1527/1527 [==============================] - 6s 4ms/step - loss: 0.0276 - val_loss: 0.0109\n",
            "Epoch 20/200\n",
            "1527/1527 [==============================] - 6s 4ms/step - loss: 0.0277 - val_loss: 0.0147\n",
            "Epoch 21/200\n",
            "1527/1527 [==============================] - 6s 4ms/step - loss: 0.0270 - val_loss: 0.0127\n",
            "Epoch 22/200\n",
            "1527/1527 [==============================] - 6s 4ms/step - loss: 0.0269 - val_loss: 0.0086\n",
            "Epoch 23/200\n",
            "1527/1527 [==============================] - 6s 4ms/step - loss: 0.0274 - val_loss: 0.0139\n",
            "Epoch 24/200\n",
            "1527/1527 [==============================] - 6s 4ms/step - loss: 0.0267 - val_loss: 0.0131\n",
            "Epoch 25/200\n",
            "1527/1527 [==============================] - 6s 4ms/step - loss: 0.0269 - val_loss: 0.0093\n",
            "Epoch 26/200\n",
            "1527/1527 [==============================] - 6s 4ms/step - loss: 0.0267 - val_loss: 0.0082\n",
            "Epoch 27/200\n",
            "1527/1527 [==============================] - 6s 4ms/step - loss: 0.0268 - val_loss: 0.0159\n",
            "Epoch 28/200\n",
            "1527/1527 [==============================] - 6s 4ms/step - loss: 0.0270 - val_loss: 0.0207\n",
            "Epoch 29/200\n",
            "1527/1527 [==============================] - 6s 4ms/step - loss: 0.0270 - val_loss: 0.0128\n",
            "Epoch 30/200\n",
            "1527/1527 [==============================] - 6s 4ms/step - loss: 0.0266 - val_loss: 0.0121\n",
            "Epoch 31/200\n",
            "1527/1527 [==============================] - 6s 4ms/step - loss: 0.0267 - val_loss: 0.0110\n",
            "Epoch 32/200\n",
            "1527/1527 [==============================] - 6s 4ms/step - loss: 0.0269 - val_loss: 0.0107\n",
            "Epoch 33/200\n",
            "1527/1527 [==============================] - 6s 4ms/step - loss: 0.0261 - val_loss: 0.0134\n",
            "Epoch 34/200\n",
            "1527/1527 [==============================] - 6s 4ms/step - loss: 0.0260 - val_loss: 0.0069\n",
            "Epoch 35/200\n",
            "1527/1527 [==============================] - 6s 4ms/step - loss: 0.0255 - val_loss: 0.0080\n",
            "Epoch 36/200\n",
            "1527/1527 [==============================] - 6s 4ms/step - loss: 0.0260 - val_loss: 0.0099\n",
            "Epoch 37/200\n",
            "1527/1527 [==============================] - 6s 4ms/step - loss: 0.0259 - val_loss: 0.0113\n",
            "Epoch 38/200\n",
            "1527/1527 [==============================] - 6s 4ms/step - loss: 0.0260 - val_loss: 0.0139\n",
            "Epoch 39/200\n",
            "1527/1527 [==============================] - 6s 4ms/step - loss: 0.0249 - val_loss: 0.0140\n",
            "Epoch 40/200\n",
            "1527/1527 [==============================] - 6s 4ms/step - loss: 0.0258 - val_loss: 0.0115\n",
            "Epoch 41/200\n",
            "1527/1527 [==============================] - 6s 4ms/step - loss: 0.0258 - val_loss: 0.0092\n",
            "Epoch 42/200\n",
            "1527/1527 [==============================] - 6s 4ms/step - loss: 0.0254 - val_loss: 0.0143\n",
            "Epoch 43/200\n",
            "1527/1527 [==============================] - 6s 4ms/step - loss: 0.0255 - val_loss: 0.0113\n",
            "Epoch 44/200\n",
            "1527/1527 [==============================] - 6s 4ms/step - loss: 0.0255 - val_loss: 0.0104\n",
            "Epoch 45/200\n",
            "1527/1527 [==============================] - 6s 4ms/step - loss: 0.0246 - val_loss: 0.0133\n",
            "Epoch 46/200\n",
            "1527/1527 [==============================] - 6s 4ms/step - loss: 0.0257 - val_loss: 0.0097\n",
            "Epoch 47/200\n",
            "1527/1527 [==============================] - 6s 4ms/step - loss: 0.0252 - val_loss: 0.0171\n",
            "Epoch 48/200\n",
            "1527/1527 [==============================] - 6s 4ms/step - loss: 0.0255 - val_loss: 0.0139\n",
            "Epoch 49/200\n",
            "1527/1527 [==============================] - 6s 4ms/step - loss: 0.0252 - val_loss: 0.0105\n",
            "Epoch 50/200\n",
            "1527/1527 [==============================] - 6s 4ms/step - loss: 0.0253 - val_loss: 0.0122\n",
            "Epoch 51/200\n",
            "1527/1527 [==============================] - 6s 4ms/step - loss: 0.0251 - val_loss: 0.0097\n",
            "Epoch 52/200\n",
            "1527/1527 [==============================] - 6s 4ms/step - loss: 0.0249 - val_loss: 0.0134\n",
            "Epoch 53/200\n",
            "1527/1527 [==============================] - 6s 4ms/step - loss: 0.0249 - val_loss: 0.0161\n",
            "Epoch 54/200\n",
            "1527/1527 [==============================] - 6s 4ms/step - loss: 0.0252 - val_loss: 0.0170\n",
            "Epoch 55/200\n",
            "1527/1527 [==============================] - 6s 4ms/step - loss: 0.0252 - val_loss: 0.0106\n",
            "Epoch 56/200\n",
            "1527/1527 [==============================] - 6s 4ms/step - loss: 0.0250 - val_loss: 0.0120\n",
            "Epoch 57/200\n",
            "1527/1527 [==============================] - 6s 4ms/step - loss: 0.0247 - val_loss: 0.0164\n",
            "Epoch 58/200\n",
            "1527/1527 [==============================] - 6s 4ms/step - loss: 0.0246 - val_loss: 0.0103\n",
            "Epoch 59/200\n",
            "1527/1527 [==============================] - 6s 4ms/step - loss: 0.0246 - val_loss: 0.0125\n",
            "Epoch 60/200\n",
            "1527/1527 [==============================] - 6s 4ms/step - loss: 0.0250 - val_loss: 0.0104\n",
            "Epoch 61/200\n",
            "1527/1527 [==============================] - 6s 4ms/step - loss: 0.0244 - val_loss: 0.0117\n",
            "Epoch 62/200\n",
            "1527/1527 [==============================] - 6s 4ms/step - loss: 0.0250 - val_loss: 0.0070\n",
            "Epoch 63/200\n",
            "1527/1527 [==============================] - 6s 4ms/step - loss: 0.0249 - val_loss: 0.0129\n",
            "Epoch 64/200\n",
            "1527/1527 [==============================] - 6s 4ms/step - loss: 0.0245 - val_loss: 0.0141\n",
            "Epoch 65/200\n",
            "1527/1527 [==============================] - 6s 4ms/step - loss: 0.0249 - val_loss: 0.0142\n",
            "Epoch 66/200\n",
            "1527/1527 [==============================] - 6s 4ms/step - loss: 0.0245 - val_loss: 0.0104\n",
            "Epoch 67/200\n",
            "1527/1527 [==============================] - 6s 4ms/step - loss: 0.0246 - val_loss: 0.0131\n",
            "Epoch 68/200\n",
            "1527/1527 [==============================] - 6s 4ms/step - loss: 0.0244 - val_loss: 0.0147\n",
            "Epoch 69/200\n",
            "1527/1527 [==============================] - 6s 4ms/step - loss: 0.0243 - val_loss: 0.0145\n",
            "Epoch 70/200\n",
            "1527/1527 [==============================] - 6s 4ms/step - loss: 0.0247 - val_loss: 0.0111\n",
            "Epoch 71/200\n",
            "1527/1527 [==============================] - 6s 4ms/step - loss: 0.0241 - val_loss: 0.0142\n",
            "Epoch 72/200\n",
            "1527/1527 [==============================] - 6s 4ms/step - loss: 0.0239 - val_loss: 0.0126\n",
            "Epoch 73/200\n",
            "1527/1527 [==============================] - 6s 4ms/step - loss: 0.0239 - val_loss: 0.0097\n",
            "Epoch 74/200\n",
            "1527/1527 [==============================] - 6s 4ms/step - loss: 0.0241 - val_loss: 0.0112\n",
            "Epoch 75/200\n",
            "1527/1527 [==============================] - 6s 4ms/step - loss: 0.0242 - val_loss: 0.0099\n",
            "Epoch 76/200\n",
            "1527/1527 [==============================] - 6s 4ms/step - loss: 0.0241 - val_loss: 0.0132\n",
            "Epoch 77/200\n",
            "1527/1527 [==============================] - 6s 4ms/step - loss: 0.0242 - val_loss: 0.0116\n",
            "Epoch 78/200\n",
            "1527/1527 [==============================] - 6s 4ms/step - loss: 0.0242 - val_loss: 0.0096\n",
            "Epoch 79/200\n",
            "1527/1527 [==============================] - 6s 4ms/step - loss: 0.0246 - val_loss: 0.0112\n",
            "Epoch 80/200\n",
            "1527/1527 [==============================] - 6s 4ms/step - loss: 0.0242 - val_loss: 0.0125\n",
            "Epoch 81/200\n",
            "1527/1527 [==============================] - 6s 4ms/step - loss: 0.0242 - val_loss: 0.0155\n",
            "Epoch 82/200\n",
            "1527/1527 [==============================] - 6s 4ms/step - loss: 0.0236 - val_loss: 0.0162\n",
            "Epoch 83/200\n",
            "1527/1527 [==============================] - 6s 4ms/step - loss: 0.0242 - val_loss: 0.0120\n",
            "Epoch 84/200\n",
            "1527/1527 [==============================] - 6s 4ms/step - loss: 0.0236 - val_loss: 0.0115\n",
            "Epoch 85/200\n",
            "1527/1527 [==============================] - 6s 4ms/step - loss: 0.0239 - val_loss: 0.0150\n",
            "Epoch 86/200\n",
            "1527/1527 [==============================] - 6s 4ms/step - loss: 0.0237 - val_loss: 0.0154\n",
            "Epoch 87/200\n",
            "1527/1527 [==============================] - 6s 4ms/step - loss: 0.0240 - val_loss: 0.0142\n",
            "Epoch 88/200\n",
            "1527/1527 [==============================] - 6s 4ms/step - loss: 0.0241 - val_loss: 0.0131\n",
            "Epoch 89/200\n",
            "1527/1527 [==============================] - 6s 4ms/step - loss: 0.0246 - val_loss: 0.0128\n",
            "Epoch 90/200\n",
            "1527/1527 [==============================] - 6s 4ms/step - loss: 0.0242 - val_loss: 0.0131\n",
            "Epoch 91/200\n",
            "1527/1527 [==============================] - 6s 4ms/step - loss: 0.0242 - val_loss: 0.0122\n",
            "Epoch 92/200\n",
            "1527/1527 [==============================] - 6s 4ms/step - loss: 0.0237 - val_loss: 0.0127\n",
            "Epoch 93/200\n",
            "1527/1527 [==============================] - 6s 4ms/step - loss: 0.0233 - val_loss: 0.0137\n",
            "Epoch 94/200\n",
            "1527/1527 [==============================] - 6s 4ms/step - loss: 0.0242 - val_loss: 0.0138\n",
            "Epoch 95/200\n",
            "1527/1527 [==============================] - 6s 4ms/step - loss: 0.0247 - val_loss: 0.0145\n",
            "Epoch 96/200\n",
            "1527/1527 [==============================] - 6s 4ms/step - loss: 0.0243 - val_loss: 0.0134\n",
            "Epoch 97/200\n",
            "1527/1527 [==============================] - 6s 4ms/step - loss: 0.0242 - val_loss: 0.0143\n",
            "Epoch 98/200\n",
            "1527/1527 [==============================] - 6s 4ms/step - loss: 0.0242 - val_loss: 0.0120\n",
            "Epoch 99/200\n",
            "1527/1527 [==============================] - 6s 4ms/step - loss: 0.0241 - val_loss: 0.0122\n",
            "Epoch 100/200\n",
            "1527/1527 [==============================] - 6s 4ms/step - loss: 0.0238 - val_loss: 0.0157\n",
            "Epoch 101/200\n",
            "1527/1527 [==============================] - 6s 4ms/step - loss: 0.0238 - val_loss: 0.0142\n",
            "Epoch 102/200\n",
            "1527/1527 [==============================] - 6s 4ms/step - loss: 0.0241 - val_loss: 0.0146\n",
            "Epoch 103/200\n",
            "1527/1527 [==============================] - 6s 4ms/step - loss: 0.0242 - val_loss: 0.0139\n",
            "Epoch 104/200\n",
            "1527/1527 [==============================] - 6s 4ms/step - loss: 0.0240 - val_loss: 0.0164\n",
            "Epoch 105/200\n",
            "1527/1527 [==============================] - 6s 4ms/step - loss: 0.0234 - val_loss: 0.0123\n",
            "Epoch 106/200\n",
            "1527/1527 [==============================] - 6s 4ms/step - loss: 0.0231 - val_loss: 0.0162\n",
            "Epoch 107/200\n",
            "1527/1527 [==============================] - 6s 4ms/step - loss: 0.0238 - val_loss: 0.0094\n",
            "Epoch 108/200\n",
            "1527/1527 [==============================] - 6s 4ms/step - loss: 0.0236 - val_loss: 0.0117\n",
            "Epoch 109/200\n",
            "1527/1527 [==============================] - 6s 4ms/step - loss: 0.0240 - val_loss: 0.0111\n",
            "Epoch 110/200\n",
            "1527/1527 [==============================] - 6s 4ms/step - loss: 0.0239 - val_loss: 0.0135\n",
            "Epoch 111/200\n",
            "1527/1527 [==============================] - 6s 4ms/step - loss: 0.0231 - val_loss: 0.0141\n",
            "Epoch 112/200\n",
            "1527/1527 [==============================] - 6s 4ms/step - loss: 0.0239 - val_loss: 0.0158\n",
            "Epoch 113/200\n",
            "1527/1527 [==============================] - 6s 4ms/step - loss: 0.0238 - val_loss: 0.0132\n",
            "Epoch 114/200\n",
            "1527/1527 [==============================] - 6s 4ms/step - loss: 0.0241 - val_loss: 0.0138\n",
            "Epoch 115/200\n",
            "1527/1527 [==============================] - 6s 4ms/step - loss: 0.0237 - val_loss: 0.0136\n",
            "Epoch 116/200\n",
            "1527/1527 [==============================] - 6s 4ms/step - loss: 0.0239 - val_loss: 0.0115\n",
            "Epoch 117/200\n",
            "1527/1527 [==============================] - 6s 4ms/step - loss: 0.0232 - val_loss: 0.0126\n",
            "Epoch 118/200\n",
            "1527/1527 [==============================] - 6s 4ms/step - loss: 0.0232 - val_loss: 0.0121\n",
            "Epoch 119/200\n",
            "1527/1527 [==============================] - 6s 4ms/step - loss: 0.0242 - val_loss: 0.0131\n",
            "Epoch 120/200\n",
            "1527/1527 [==============================] - 6s 4ms/step - loss: 0.0232 - val_loss: 0.0117\n",
            "Epoch 121/200\n",
            "1527/1527 [==============================] - 6s 4ms/step - loss: 0.0235 - val_loss: 0.0111\n",
            "Epoch 122/200\n",
            "1527/1527 [==============================] - 6s 4ms/step - loss: 0.0233 - val_loss: 0.0156\n",
            "Epoch 123/200\n",
            "1527/1527 [==============================] - 6s 4ms/step - loss: 0.0241 - val_loss: 0.0128\n",
            "Epoch 124/200\n",
            "1527/1527 [==============================] - 6s 4ms/step - loss: 0.0238 - val_loss: 0.0115\n",
            "Epoch 125/200\n",
            "1527/1527 [==============================] - 6s 4ms/step - loss: 0.0239 - val_loss: 0.0137\n",
            "Epoch 126/200\n",
            "1527/1527 [==============================] - 6s 4ms/step - loss: 0.0238 - val_loss: 0.0144\n",
            "Epoch 127/200\n",
            "1527/1527 [==============================] - 6s 4ms/step - loss: 0.0233 - val_loss: 0.0155\n",
            "Epoch 128/200\n",
            "1527/1527 [==============================] - 6s 4ms/step - loss: 0.0238 - val_loss: 0.0159\n",
            "Epoch 129/200\n",
            "1527/1527 [==============================] - 6s 4ms/step - loss: 0.0238 - val_loss: 0.0133\n",
            "Epoch 130/200\n",
            "1527/1527 [==============================] - 6s 4ms/step - loss: 0.0241 - val_loss: 0.0133\n",
            "Epoch 131/200\n",
            "1527/1527 [==============================] - 6s 4ms/step - loss: 0.0242 - val_loss: 0.0119\n",
            "Epoch 132/200\n",
            "1527/1527 [==============================] - 6s 4ms/step - loss: 0.0232 - val_loss: 0.0121\n",
            "Epoch 133/200\n",
            "1527/1527 [==============================] - 6s 4ms/step - loss: 0.0241 - val_loss: 0.0133\n",
            "Epoch 134/200\n",
            "1527/1527 [==============================] - 6s 4ms/step - loss: 0.0235 - val_loss: 0.0133\n",
            "Epoch 135/200\n",
            "1527/1527 [==============================] - 6s 4ms/step - loss: 0.0234 - val_loss: 0.0126\n",
            "Epoch 136/200\n",
            "1527/1527 [==============================] - 6s 4ms/step - loss: 0.0237 - val_loss: 0.0116\n",
            "Epoch 137/200\n",
            "1527/1527 [==============================] - 6s 4ms/step - loss: 0.0232 - val_loss: 0.0147\n",
            "Epoch 138/200\n",
            "1527/1527 [==============================] - 6s 4ms/step - loss: 0.0240 - val_loss: 0.0131\n",
            "Epoch 139/200\n",
            "1527/1527 [==============================] - 6s 4ms/step - loss: 0.0232 - val_loss: 0.0109\n",
            "Epoch 140/200\n",
            "1527/1527 [==============================] - 6s 4ms/step - loss: 0.0235 - val_loss: 0.0133\n",
            "Epoch 141/200\n",
            "1527/1527 [==============================] - 6s 4ms/step - loss: 0.0234 - val_loss: 0.0127\n",
            "Epoch 142/200\n",
            "1527/1527 [==============================] - 6s 4ms/step - loss: 0.0231 - val_loss: 0.0136\n",
            "Epoch 143/200\n",
            "1527/1527 [==============================] - 6s 4ms/step - loss: 0.0233 - val_loss: 0.0152\n",
            "Epoch 144/200\n",
            "1527/1527 [==============================] - 6s 4ms/step - loss: 0.0233 - val_loss: 0.0141\n",
            "Epoch 145/200\n",
            "1527/1527 [==============================] - 6s 4ms/step - loss: 0.0237 - val_loss: 0.0141\n",
            "Epoch 146/200\n",
            "1527/1527 [==============================] - 6s 4ms/step - loss: 0.0234 - val_loss: 0.0113\n",
            "Epoch 147/200\n",
            "1527/1527 [==============================] - 6s 4ms/step - loss: 0.0235 - val_loss: 0.0132\n",
            "Epoch 148/200\n",
            "1527/1527 [==============================] - 6s 4ms/step - loss: 0.0237 - val_loss: 0.0153\n",
            "Epoch 149/200\n",
            "1527/1527 [==============================] - 6s 4ms/step - loss: 0.0239 - val_loss: 0.0127\n",
            "Epoch 150/200\n",
            "1527/1527 [==============================] - 6s 4ms/step - loss: 0.0232 - val_loss: 0.0111\n",
            "Epoch 151/200\n",
            "1527/1527 [==============================] - 6s 4ms/step - loss: 0.0232 - val_loss: 0.0141\n",
            "Epoch 152/200\n",
            "1527/1527 [==============================] - 6s 4ms/step - loss: 0.0235 - val_loss: 0.0115\n",
            "Epoch 153/200\n",
            "1527/1527 [==============================] - 6s 4ms/step - loss: 0.0232 - val_loss: 0.0124\n",
            "Epoch 154/200\n",
            "1527/1527 [==============================] - 6s 4ms/step - loss: 0.0234 - val_loss: 0.0142\n",
            "Epoch 155/200\n",
            "1527/1527 [==============================] - 6s 4ms/step - loss: 0.0235 - val_loss: 0.0125\n",
            "Epoch 156/200\n",
            "1527/1527 [==============================] - 6s 4ms/step - loss: 0.0237 - val_loss: 0.0155\n",
            "Epoch 157/200\n",
            "1527/1527 [==============================] - 6s 4ms/step - loss: 0.0233 - val_loss: 0.0108\n",
            "Epoch 158/200\n",
            "1527/1527 [==============================] - 6s 4ms/step - loss: 0.0237 - val_loss: 0.0107\n",
            "Epoch 159/200\n",
            "1527/1527 [==============================] - 6s 4ms/step - loss: 0.0235 - val_loss: 0.0140\n",
            "Epoch 160/200\n",
            "1527/1527 [==============================] - 6s 4ms/step - loss: 0.0241 - val_loss: 0.0128\n",
            "Epoch 161/200\n",
            "1527/1527 [==============================] - 6s 4ms/step - loss: 0.0234 - val_loss: 0.0145\n",
            "Epoch 162/200\n",
            "1527/1527 [==============================] - 6s 4ms/step - loss: 0.0233 - val_loss: 0.0122\n",
            "Epoch 163/200\n",
            "1527/1527 [==============================] - 6s 4ms/step - loss: 0.0233 - val_loss: 0.0115\n",
            "Epoch 164/200\n",
            "1527/1527 [==============================] - 6s 4ms/step - loss: 0.0232 - val_loss: 0.0120\n",
            "Epoch 165/200\n",
            "1527/1527 [==============================] - 6s 4ms/step - loss: 0.0233 - val_loss: 0.0136\n",
            "Epoch 166/200\n",
            "1527/1527 [==============================] - 6s 4ms/step - loss: 0.0234 - val_loss: 0.0140\n",
            "Epoch 167/200\n",
            "1527/1527 [==============================] - 6s 4ms/step - loss: 0.0234 - val_loss: 0.0112\n",
            "Epoch 168/200\n",
            "1527/1527 [==============================] - 6s 4ms/step - loss: 0.0233 - val_loss: 0.0140\n",
            "Epoch 169/200\n",
            "1527/1527 [==============================] - 6s 4ms/step - loss: 0.0239 - val_loss: 0.0127\n",
            "Epoch 170/200\n",
            "1527/1527 [==============================] - 6s 4ms/step - loss: 0.0234 - val_loss: 0.0146\n",
            "Epoch 171/200\n",
            "1527/1527 [==============================] - 6s 4ms/step - loss: 0.0233 - val_loss: 0.0152\n",
            "Epoch 172/200\n",
            "1527/1527 [==============================] - 6s 4ms/step - loss: 0.0230 - val_loss: 0.0130\n",
            "Epoch 173/200\n",
            "1527/1527 [==============================] - 6s 4ms/step - loss: 0.0237 - val_loss: 0.0144\n",
            "Epoch 174/200\n",
            "1527/1527 [==============================] - 6s 4ms/step - loss: 0.0234 - val_loss: 0.0152\n",
            "Epoch 175/200\n",
            "1527/1527 [==============================] - 6s 4ms/step - loss: 0.0234 - val_loss: 0.0127\n",
            "Epoch 176/200\n",
            "1527/1527 [==============================] - 6s 4ms/step - loss: 0.0229 - val_loss: 0.0151\n",
            "Epoch 177/200\n",
            "1527/1527 [==============================] - 6s 4ms/step - loss: 0.0235 - val_loss: 0.0146\n",
            "Epoch 178/200\n",
            "1527/1527 [==============================] - 6s 4ms/step - loss: 0.0227 - val_loss: 0.0141\n",
            "Epoch 179/200\n",
            "1527/1527 [==============================] - 6s 4ms/step - loss: 0.0233 - val_loss: 0.0125\n",
            "Epoch 180/200\n",
            "1527/1527 [==============================] - 6s 4ms/step - loss: 0.0235 - val_loss: 0.0130\n",
            "Epoch 181/200\n",
            "1527/1527 [==============================] - 6s 4ms/step - loss: 0.0231 - val_loss: 0.0117\n",
            "Epoch 182/200\n",
            "1527/1527 [==============================] - 6s 4ms/step - loss: 0.0234 - val_loss: 0.0124\n",
            "Epoch 183/200\n",
            "1527/1527 [==============================] - 6s 4ms/step - loss: 0.0227 - val_loss: 0.0119\n",
            "Epoch 184/200\n",
            "1527/1527 [==============================] - 6s 4ms/step - loss: 0.0232 - val_loss: 0.0156\n",
            "Epoch 185/200\n",
            "1527/1527 [==============================] - 6s 4ms/step - loss: 0.0231 - val_loss: 0.0130\n",
            "Epoch 186/200\n",
            "1527/1527 [==============================] - 6s 4ms/step - loss: 0.0235 - val_loss: 0.0127\n",
            "Epoch 187/200\n",
            "1527/1527 [==============================] - 6s 4ms/step - loss: 0.0228 - val_loss: 0.0122\n",
            "Epoch 188/200\n",
            "1527/1527 [==============================] - 6s 4ms/step - loss: 0.0232 - val_loss: 0.0118\n",
            "Epoch 189/200\n",
            "1527/1527 [==============================] - 6s 4ms/step - loss: 0.0234 - val_loss: 0.0122\n",
            "Epoch 190/200\n",
            "1527/1527 [==============================] - 6s 4ms/step - loss: 0.0230 - val_loss: 0.0127\n",
            "Epoch 191/200\n",
            "1527/1527 [==============================] - 6s 4ms/step - loss: 0.0232 - val_loss: 0.0142\n",
            "Epoch 192/200\n",
            "1527/1527 [==============================] - 6s 4ms/step - loss: 0.0226 - val_loss: 0.0132\n",
            "Epoch 193/200\n",
            "1527/1527 [==============================] - 6s 4ms/step - loss: 0.0232 - val_loss: 0.0119\n",
            "Epoch 194/200\n",
            "1527/1527 [==============================] - 6s 4ms/step - loss: 0.0234 - val_loss: 0.0133\n",
            "Epoch 195/200\n",
            "1527/1527 [==============================] - 6s 4ms/step - loss: 0.0230 - val_loss: 0.0131\n",
            "Epoch 196/200\n",
            "1527/1527 [==============================] - 6s 4ms/step - loss: 0.0229 - val_loss: 0.0152\n",
            "Epoch 197/200\n",
            "1527/1527 [==============================] - 6s 4ms/step - loss: 0.0231 - val_loss: 0.0121\n",
            "Epoch 198/200\n",
            "1527/1527 [==============================] - 6s 4ms/step - loss: 0.0230 - val_loss: 0.0122\n",
            "Epoch 199/200\n",
            "1527/1527 [==============================] - 6s 4ms/step - loss: 0.0228 - val_loss: 0.0116\n",
            "Epoch 200/200\n",
            "1527/1527 [==============================] - 6s 4ms/step - loss: 0.0228 - val_loss: 0.0134\n"
          ],
          "name": "stdout"
        }
      ]
    },
    {
      "cell_type": "code",
      "metadata": {
        "colab": {
          "base_uri": "https://localhost:8080/",
          "height": 431
        },
        "id": "5KZbgee9NLvX",
        "outputId": "7f321fa6-31ca-48ab-ebc0-321480296ef4"
      },
      "source": [
        "figure(figsize=(20, 6), dpi=80)\n",
        "\n",
        "plt.plot(history.history['val_loss'][10::])\n",
        "plt.plot(history.history['loss'][10::])\n",
        "\n",
        "plt.legend(['loss (error entrenamiento)', 'val_loss (error validación)'], loc='upper left')\n",
        "plt.show()"
      ],
      "execution_count": null,
      "outputs": [
        {
          "output_type": "execute_result",
          "data": {
            "text/plain": [
              "<Figure size 1600x480 with 0 Axes>"
            ]
          },
          "metadata": {
            "tags": []
          },
          "execution_count": 21
        },
        {
          "output_type": "execute_result",
          "data": {
            "text/plain": [
              "[<matplotlib.lines.Line2D at 0x7f6b80076a90>]"
            ]
          },
          "metadata": {
            "tags": []
          },
          "execution_count": 21
        },
        {
          "output_type": "execute_result",
          "data": {
            "text/plain": [
              "[<matplotlib.lines.Line2D at 0x7f6b80076e90>]"
            ]
          },
          "metadata": {
            "tags": []
          },
          "execution_count": 21
        },
        {
          "output_type": "execute_result",
          "data": {
            "text/plain": [
              "<matplotlib.legend.Legend at 0x7f6b3686d810>"
            ]
          },
          "metadata": {
            "tags": []
          },
          "execution_count": 21
        },
        {
          "output_type": "display_data",
          "data": {
            "image/png": "[encoded data removed]",
            "text/plain": [
              "<Figure size 1600x480 with 1 Axes>"
            ]
          },
          "metadata": {
            "tags": [],
            "needs_background": "light"
          }
        }
      ]
    },
    {
      "cell_type": "code",
      "metadata": {
        "colab": {
          "base_uri": "https://localhost:8080/",
          "height": 231
        },
        "id": "Zg7PjmURYN03",
        "outputId": "59a63071-a10e-4491-ad93-1829532c5126"
      },
      "source": [
        "# data original, x entrada, y esperado, mapeo indices de x|y con data original, catndiad\n",
        "def comparacion_resultados(data, x, y, ix, n=0, titulo=''):\n",
        "    completo = not n\n",
        "    if completo:\n",
        "        n = len(x)\n",
        "        print(f'Análisis completo de {n} muestras')\n",
        "    else:\n",
        "        print(f'Análisis parcial de {n} muestras')\n",
        "\n",
        "    if titulo:\n",
        "        print(f'\\n{titulo}\\n')\n",
        "\n",
        "    # Agarro n nros al azar\n",
        "    indexes = np.random.choice(len(ix), n)\n",
        "\n",
        "    # x a predecir\n",
        "    prueba = np.array([x[i] for i in indexes])\n",
        "\n",
        "    # y esperado\n",
        "    esperado = np.array([y[i] for i in indexes])\n",
        "\n",
        "    # y predicto\n",
        "    predicto = model.predict(prueba)\n",
        "\n",
        "    # diferencia porcentual\n",
        "    # display(predicto)\n",
        "    predicto_real = price_scaler.inverse_transform(predicto)\n",
        "    # display(y_real)\n",
        "    diff = [pr[0] / esperado[i] for i, pr in enumerate(predicto_real)]\n",
        "\n",
        "    ## Recupero data real\n",
        "    indexes_reales = [ix[i] for i in indexes]\n",
        "    cmp_data = data.loc[indexes_reales]\n",
        "    cmp_data['price_predicted'] = predicto_real\n",
        "    \n",
        "    # Datos de comparación\n",
        "    cmp_data['% difference'] = (cmp_data['price_predicted'] - cmp_data['price'])/cmp_data['price'] * 100\n",
        "    cmp_data['abs difference'] = cmp_data['price_predicted'] - cmp_data['price']\n",
        "\n",
        "    # Comparación completa\n",
        "    if completo:\n",
        "        max_percent = abs(cmp_data['% difference'].values).max()\n",
        "        avg_percent = abs(cmp_data['% difference'].values).sum() / n\n",
        "        print(f'Mayor error porcentual absoluto {max_percent}')\n",
        "        print(f'Error porcentual absoluto promedio {avg_percent}')\n",
        "\n",
        "    return cmp_data\n",
        "\n",
        "comparacion_resultados(data, x_train, y_train, i_train, 10, 'Precisión datos de entrenamiento')\n",
        "comparacion_resultados(data, x_test, y_test, i_test, 10, 'Precisión datos de validación')\n",
        "\n",
        "comparacion_completa = comparacion_resultados(data, x_test, y_test, i_test, 0, 'Comparación completa')\n",
        "# comparacion_completa.head()\n"
      ],
      "execution_count": null,
      "outputs": [
        {
          "output_type": "error",
          "ename": "NameError",
          "evalue": "ignored",
          "traceback": [
            "\u001b[0;31m---------------------------------------------------------------------------\u001b[0m",
            "\u001b[0;31mNameError\u001b[0m                                 Traceback (most recent call last)",
            "\u001b[0;32m<ipython-input-1-ea9824cb9811>\u001b[0m in \u001b[0;36m<module>\u001b[0;34m()\u001b[0m\n\u001b[1;32m     47\u001b[0m     \u001b[0;32mreturn\u001b[0m \u001b[0mcmp_data\u001b[0m\u001b[0;34m\u001b[0m\u001b[0;34m\u001b[0m\u001b[0m\n\u001b[1;32m     48\u001b[0m \u001b[0;34m\u001b[0m\u001b[0m\n\u001b[0;32m---> 49\u001b[0;31m \u001b[0mcomparacion_resultados\u001b[0m\u001b[0;34m(\u001b[0m\u001b[0mdata\u001b[0m\u001b[0;34m,\u001b[0m \u001b[0mx_train\u001b[0m\u001b[0;34m,\u001b[0m \u001b[0my_train\u001b[0m\u001b[0;34m,\u001b[0m \u001b[0mi_train\u001b[0m\u001b[0;34m,\u001b[0m \u001b[0;36m10\u001b[0m\u001b[0;34m,\u001b[0m \u001b[0;34m'Precisión datos de entrenamiento'\u001b[0m\u001b[0;34m)\u001b[0m\u001b[0;34m\u001b[0m\u001b[0;34m\u001b[0m\u001b[0m\n\u001b[0m\u001b[1;32m     50\u001b[0m \u001b[0mcomparacion_resultados\u001b[0m\u001b[0;34m(\u001b[0m\u001b[0mdata\u001b[0m\u001b[0;34m,\u001b[0m \u001b[0mx_test\u001b[0m\u001b[0;34m,\u001b[0m \u001b[0my_test\u001b[0m\u001b[0;34m,\u001b[0m \u001b[0mi_test\u001b[0m\u001b[0;34m,\u001b[0m \u001b[0;36m10\u001b[0m\u001b[0;34m,\u001b[0m \u001b[0;34m'Precisión datos de validación'\u001b[0m\u001b[0;34m)\u001b[0m\u001b[0;34m\u001b[0m\u001b[0;34m\u001b[0m\u001b[0m\n\u001b[1;32m     51\u001b[0m \u001b[0;34m\u001b[0m\u001b[0m\n",
            "\u001b[0;31mNameError\u001b[0m: name 'data' is not defined"
          ]
        }
      ]
    }
  ]
}